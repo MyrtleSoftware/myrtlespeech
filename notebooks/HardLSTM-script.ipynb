{
 "cells": [
  {
   "cell_type": "code",
   "execution_count": null,
   "metadata": {},
   "outputs": [],
   "source": [
    "import os\n",
    "os.environ[\"CUDA_VISIBLE_DEVICES\"] = \"\" # set this before importing torchimport torch \n",
    "import torch \n",
    "import time"
   ]
  },
  {
   "cell_type": "code",
   "execution_count": null,
   "metadata": {},
   "outputs": [],
   "source": [
    "from deepspeech_int import HardLSTM as HardLSTM_dsi"
   ]
  },
  {
   "cell_type": "code",
   "execution_count": null,
   "metadata": {},
   "outputs": [],
   "source": [
    "from myrtlespeech.model.hard_lstm import HardLSTM as HardLSTM_v\n",
    "#from myrtlespeech.model.hard_lstm import HardLSTM as HardLSTM_dsi"
   ]
  },
  {
   "cell_type": "code",
   "execution_count": null,
   "metadata": {},
   "outputs": [],
   "source": [
    "in_size = 3\n",
    "hidden = 4\n",
    "seq_len = 35\n",
    "num_layers = 1\n",
    "bidirectional = True\n",
    "batch = 3\n",
    "\n",
    "def gen_args(in_size, hidden, seq_len, num_layers, bidirectional, batch):\n",
    "    x = torch.randn(seq_len, batch, in_size)\n",
    "    num_directions = 2 if bidirectional else 1\n",
    "    zeros = torch.zeros(\n",
    "        num_layers * num_directions,\n",
    "        batch,\n",
    "        hidden,\n",
    "        dtype=x.dtype,\n",
    "    )\n",
    "    return (x, (zeros, zeros))\n",
    "\n",
    "args = gen_args(in_size, hidden, seq_len, num_layers, bidirectional, batch)\n",
    "\n",
    "lstm_v = HardLSTM_v(in_size=in_size, hidden_size=hidden, batch_first=False, bidirectional=bidirectional)\n",
    "lstm_d = HardLSTM_dsi(input_size=in_size, hidden_size=hidden, batch_first=False, bidirectional=bidirectional)\n",
    "lstm = torch.nn.LSTM(input_size=in_size, hidden_size=hidden, batch_first=False, bidirectional=bidirectional)\n",
    "#lstm2 = script_lstm(input_size=in_size, hidden_size=hidden, num_layers=num_layers, bias=True,\n",
    "#                batch_first=False, dropout=False, bidirectional=bidirectional)\n",
    "\n",
    "outputs_v = lstm_v(*args)\n",
    "outputs_d = lstm_d(*args)\n",
    "outputs_n = lstm(*args)\n",
    "#outputs_2 = lstm2(*args)"
   ]
  },
  {
   "cell_type": "code",
   "execution_count": null,
   "metadata": {},
   "outputs": [],
   "source": [
    "outputs_v = lstm_v(*args)\n",
    "lstm_v"
   ]
  },
  {
   "cell_type": "code",
   "execution_count": null,
   "metadata": {},
   "outputs": [],
   "source": [
    "#torch.jit.script(lstm_d)"
   ]
  },
  {
   "cell_type": "code",
   "execution_count": null,
   "metadata": {},
   "outputs": [],
   "source": [
    "torch.jit.script(lstm_v)"
   ]
  },
  {
   "cell_type": "code",
   "execution_count": null,
   "metadata": {},
   "outputs": [],
   "source": []
  }
 ],
 "metadata": {
  "kernelspec": {
   "display_name": "Python 3",
   "language": "python",
   "name": "python3"
  },
  "language_info": {
   "codemirror_mode": {
    "name": "ipython",
    "version": 3
   },
   "file_extension": ".py",
   "mimetype": "text/x-python",
   "name": "python",
   "nbconvert_exporter": "python",
   "pygments_lexer": "ipython3",
   "version": "3.6.9"
  }
 },
 "nbformat": 4,
 "nbformat_minor": 2
}
