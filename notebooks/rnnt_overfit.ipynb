{
 "cells": [
  {
   "cell_type": "markdown",
   "metadata": {},
   "source": [
    "# RNN-T Overfitting\n",
    "Validate that all elements of the pipeline are working by overfitting to a small number of training examples"
   ]
  },
  {
   "cell_type": "code",
   "execution_count": null,
   "metadata": {},
   "outputs": [],
   "source": [
    "%load_ext autoreload\n",
    "%autoreload 2"
   ]
  },
  {
   "cell_type": "code",
   "execution_count": null,
   "metadata": {},
   "outputs": [],
   "source": [
    "import os\n",
    "import pathlib\n",
    "import typing\n",
    "\n",
    "import torch\n",
    "from google.protobuf import text_format\n",
    "\n",
    "from myrtlespeech.model.rnn_t import RNNTEncoder, RNNT\n",
    "from myrtlespeech.run.callbacks.csv_logger import CSVLogger\n",
    "from myrtlespeech.run.callbacks.callback import Callback, ModelCallback\n",
    "from myrtlespeech.run.callbacks.clip_grad_norm import ClipGradNorm\n",
    "from myrtlespeech.run.callbacks.report_mean_batch_loss import ReportMeanBatchLoss\n",
    "from myrtlespeech.run.callbacks.stop_epoch_after import StopEpochAfter\n",
    "from myrtlespeech.run.callbacks.mixed_precision import MixedPrecision\n",
    "from myrtlespeech.post_process.utils import levenshtein\n",
    "from myrtlespeech.builders.task_config import build\n",
    "from myrtlespeech.run.train import fit\n",
    "from myrtlespeech.protos import task_config_pb2\n",
    "from myrtlespeech.run.stage import Stage"
   ]
  },
  {
   "cell_type": "code",
   "execution_count": null,
   "metadata": {},
   "outputs": [],
   "source": [
    "torch.backends.cudnn.benchmark = False\n",
    "import os\n",
    "\n",
    "os.environ[\"CUDA_VISIBLE_DEVICES\"] = \"0\""
   ]
  },
  {
   "cell_type": "markdown",
   "metadata": {},
   "source": [
    "Build the RNNT model defined in the config file:"
   ]
  },
  {
   "cell_type": "code",
   "execution_count": null,
   "metadata": {},
   "outputs": [],
   "source": [
    "# parse example config file\n",
    "with open(\"../src/myrtlespeech/configs/rnn_t_en.config\") as f:\n",
    "    task_config = text_format.Merge(f.read(), task_config_pb2.TaskConfig())\n",
    "\n",
    "task_config"
   ]
  },
  {
   "cell_type": "code",
   "execution_count": null,
   "metadata": {},
   "outputs": [],
   "source": [
    "# create all components for config\n",
    "# FYI: if using train-clean-100 & dev-clean this cell takes O(60s) \n",
    "seq_to_seq, epochs, train_loader, eval_loader = build(task_config)\n",
    "seq_to_seq"
   ]
  },
  {
   "cell_type": "code",
   "execution_count": null,
   "metadata": {},
   "outputs": [],
   "source": [
    "print(\"number of params:\", sum(p.numel() for _, p in seq_to_seq.model.named_parameters()))"
   ]
  },
  {
   "cell_type": "code",
   "execution_count": null,
   "metadata": {},
   "outputs": [],
   "source": [
    "import itertools\n",
    "from torch.utils.data.sampler import SequentialSampler\n",
    "from torch.utils.data import DataLoader\n",
    "\n",
    "NUMBER_SAMPLES = 2\n",
    "\n",
    "#get dataset from trainloader:\n",
    "dataset = train_loader.sampler.data_source\n",
    "print(dataset)\n",
    "\n",
    "train_loader_no_shuffle = DataLoader(dataset, batch_size=1, shuffle=False)\n",
    "train_loader_overfit = list(itertools.islice(train_loader_no_shuffle, NUMBER_SAMPLES))\n",
    "eval_loader_overfit = train_loader_overfit #i.e. use the same\n"
   ]
  },
  {
   "cell_type": "code",
   "execution_count": null,
   "metadata": {},
   "outputs": [],
   "source": [
    "#custom callback to monitor training and print results\n",
    "class PrintCB(Callback):\n",
    "    def __init__(self):\n",
    "        super().__init__()\n",
    "    \n",
    "    def on_epoch_end(self, **kwargs):\n",
    "        if self.training:\n",
    "            return\n",
    "        epoch = kwargs[\"epoch\"]\n",
    "        if epoch % 10 == 0:\n",
    "            try:\n",
    "                wer_reports = kwargs[\"reports\"][seq_to_seq.post_process.__class__.__name__]\n",
    "                wer = wer_reports[\"wer\"]\n",
    "                transcripts = wer_reports[\"transcripts\"][0] #take first element\n",
    "                pred, exp = transcripts\n",
    "                pred = \"\".join(pred)\n",
    "                exp = \"\".join(exp)\n",
    "                loss = kwargs[\"reports\"][\"ReportMeanBatchLoss\"]\n",
    "\n",
    "                print(\"{}, pred: {}, exp: {}, loss {:.8f}, wer: {:.4f}\".format(epoch, pred, exp, loss, wer, ))\n",
    "            except KeyError:\n",
    "                print(\"no wer - using new decoder?\")\n",
    "        "
   ]
  },
  {
   "cell_type": "code",
   "execution_count": null,
   "metadata": {},
   "outputs": [],
   "source": [
    "from myrtlespeech.post_process.rnn_t_decoders import RNNTBeamDecoder, RNNTGreedyDecoder\n",
    "use_beam = False\n",
    "no_max = False\n",
    "if use_beam:\n",
    "    decoder = RNNTBeamDecoder(blank_index=28,\n",
    "                                beam_width=4,\n",
    "                                 length_norm=False,\n",
    "                                 max_symbols_per_step = 4,\n",
    "                             model=seq_to_seq.model)\n",
    "else:\n",
    "    decoder = RNNTGreedyDecoder(blank_index=28,\n",
    "                                 max_symbols_per_step = 4,\n",
    "                               model=seq_to_seq.model) \n",
    "\n",
    "seq_to_seq.post_process = decoder\n",
    "\n",
    "if no_max:\n",
    "    seq_to_seq.post_process.max_symbols_per_step = 100\n",
    "else:\n",
    "    seq_to_seq.post_process.max_symbols_per_step = 4"
   ]
  },
  {
   "cell_type": "code",
   "execution_count": null,
   "metadata": {},
   "outputs": [],
   "source": [
    "from myrtlespeech.run.callbacks.rnn_t_training import RNNTTraining\n",
    "from myrtlespeech.run.run import ReportRNNTDecoder\n",
    "\n",
    "rnnt_decoder_cb  = ReportRNNTDecoder(seq_to_seq.post_process, seq_to_seq.alphabet)\n",
    "\n",
    "callbacks = [RNNTTraining(),\n",
    "            ReportMeanBatchLoss(), \n",
    "            rnnt_decoder_cb,\n",
    "            PrintCB()] \n"
   ]
  },
  {
   "cell_type": "code",
   "execution_count": null,
   "metadata": {},
   "outputs": [],
   "source": [
    "fit(\n",
    "    seq_to_seq, \n",
    "    epochs=3000,\n",
    "    train_loader=train_loader_overfit, \n",
    "    eval_loader=train_loader_overfit, #i.e. use the same loader\n",
    "    callbacks=callbacks,\n",
    ")\n"
   ]
  },
  {
   "cell_type": "code",
   "execution_count": null,
   "metadata": {},
   "outputs": [],
   "source": []
  },
  {
   "cell_type": "code",
   "execution_count": null,
   "metadata": {},
   "outputs": [],
   "source": []
  }
 ],
 "metadata": {
  "kernelspec": {
   "display_name": "Python 3",
   "language": "python",
   "name": "python3"
  },
  "language_info": {
   "codemirror_mode": {
    "name": "ipython",
    "version": 3
   },
   "file_extension": ".py",
   "mimetype": "text/x-python",
   "name": "python",
   "nbconvert_exporter": "python",
   "pygments_lexer": "ipython3",
   "version": "3.7.3"
  }
 },
 "nbformat": 4,
 "nbformat_minor": 2
}
