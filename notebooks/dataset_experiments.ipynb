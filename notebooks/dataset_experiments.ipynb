{
 "cells": [
  {
   "cell_type": "code",
   "execution_count": null,
   "metadata": {},
   "outputs": [],
   "source": [
    "import os\n",
    "import pathlib\n",
    "import typing\n",
    "\n",
    "import torch\n",
    "from google.protobuf import text_format\n",
    "\n",
    "from myrtlespeech.model.deep_speech_1 import DeepSpeech1\n",
    "from myrtlespeech.run.callbacks.csv_logger import CSVLogger\n",
    "from myrtlespeech.run.callbacks.callback import Callback, ModelCallback\n",
    "from myrtlespeech.run.callbacks.clip_grad_norm import ClipGradNorm\n",
    "from myrtlespeech.run.callbacks.report_mean_batch_loss import ReportMeanBatchLoss\n",
    "from myrtlespeech.run.callbacks.stop_epoch_after import StopEpochAfter\n",
    "from myrtlespeech.run.callbacks.mixed_precision import MixedPrecision\n",
    "from myrtlespeech.post_process.utils import levenshtein\n",
    "from myrtlespeech.builders.task_config import build\n",
    "from myrtlespeech.run.train import fit\n",
    "from myrtlespeech.protos import task_config_pb2\n",
    "from myrtlespeech.run.stage import Stage\n",
    "from myrtlespeech.run.run import ReportCTCDecoder\n",
    "from myrtlespeech.run.run import Saver\n",
    "from myrtlespeech.run.run import TensorBoardLogger\n",
    "from myrtlespeech.run.run import WordSegmentor"
   ]
  },
  {
   "cell_type": "code",
   "execution_count": null,
   "metadata": {},
   "outputs": [],
   "source": [
    "with open(\"../src/myrtlespeech/configs/deep_speech_1_en.config\") as f:\n",
    "    task_config = text_format.Merge(f.read(), task_config_pb2.TaskConfig())\n",
    "\n",
    "task_config"
   ]
  },
  {
   "cell_type": "code",
   "execution_count": null,
   "metadata": {},
   "outputs": [],
   "source": [
    "seq_to_seq, epochs, train_loader, eval_loader = build(task_config)\n",
    "seq_to_seq.model"
   ]
  },
  {
   "cell_type": "code",
   "execution_count": null,
   "metadata": {},
   "outputs": [],
   "source": [
    "log_dir = \"/logs/ds1\""
   ]
  },
  {
   "cell_type": "code",
   "execution_count": null,
   "metadata": {},
   "outputs": [],
   "source": [
    "# train the model\n",
    "fit(\n",
    "    seq_to_seq, \n",
    "    1000,#epochs, \n",
    "    train_loader=train_loader, \n",
    "    eval_loader=eval_loader,\n",
    "    callbacks=[\n",
    "        #prof,\n",
    "        ReportMeanBatchLoss(),\n",
    "        ReportCTCDecoder(\n",
    "            seq_to_seq.post_process, \n",
    "            seq_to_seq.alphabet,\n",
    "            WordSegmentor(\" \"),\n",
    "        ),\n",
    "        TensorBoardLogger(log_dir, seq_to_seq.model, histograms=False),\n",
    "        MixedPrecision(seq_to_seq, opt_level=\"O1\"),\n",
    "        #ClipGradNorm(seq_to_seq, max_norm=400),\n",
    "        #StopEpochAfter(epoch_batches=1),\n",
    "        CSVLogger(f\"{log_dir}/log.csv\", \n",
    "            exclude=[\n",
    "                \"epochs\", \n",
    "                #\"reports/CTCGreedyDecoder/transcripts\",\n",
    "            ]\n",
    "        ),\n",
    "        Saver(log_dir, seq_to_seq),\n",
    "    ],\n",
    ")"
   ]
  }
 ],
 "metadata": {
  "kernelspec": {
   "display_name": "Python 3",
   "language": "python",
   "name": "python3"
  },
  "language_info": {
   "codemirror_mode": {
    "name": "ipython",
    "version": 3
   },
   "file_extension": ".py",
   "mimetype": "text/x-python",
   "name": "python",
   "nbconvert_exporter": "python",
   "pygments_lexer": "ipython3",
   "version": "3.7.3"
  }
 },
 "nbformat": 4,
 "nbformat_minor": 2
}
