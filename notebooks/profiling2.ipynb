{
 "cells": [
  {
   "cell_type": "code",
   "execution_count": null,
   "metadata": {},
   "outputs": [],
   "source": [
    "import torch\n",
    "\n",
    "device = torch.device(\"cuda\")"
   ]
  },
  {
   "cell_type": "markdown",
   "metadata": {},
   "source": [
    "## LSTM Definitions"
   ]
  },
  {
   "cell_type": "markdown",
   "metadata": {},
   "source": [
    "### Vanilla"
   ]
  },
  {
   "cell_type": "code",
   "execution_count": null,
   "metadata": {},
   "outputs": [],
   "source": [
    "class LSTMCell(torch.nn.Module):\n",
    "    def __init__(self, input_size, hidden_size):\n",
    "        super(LSTMCell, self).__init__()\n",
    "        self.input_size = input_size\n",
    "        self.hidden_size = hidden_size\n",
    "        self.weight_ih = torch.nn.Parameter(torch.randn(4 * hidden_size, input_size))\n",
    "        self.weight_hh = torch.nn.Parameter(torch.randn(4 * hidden_size, hidden_size))\n",
    "        self.bias_ih = torch.nn.Parameter(torch.randn(4 * hidden_size))\n",
    "        self.bias_hh = torch.nn.Parameter(torch.randn(4 * hidden_size))\n",
    "\n",
    "    def forward(self, input, state):\n",
    "        # type: (Tensor, Tuple[Tensor, Tensor]) -> Tuple[Tensor, Tuple[Tensor, Tensor]]\n",
    "        hx, cx = state\n",
    "        gates = (torch.mm(input, self.weight_ih.t()) + self.bias_ih +\n",
    "                 torch.mm(hx, self.weight_hh.t()) + self.bias_hh)\n",
    "        ingate, forgetgate, cellgate, outgate = gates.chunk(4, 1)\n",
    "\n",
    "        ingate = torch.sigmoid(ingate)\n",
    "        forgetgate = torch.sigmoid(forgetgate)\n",
    "        cellgate = torch.tanh(cellgate)\n",
    "        outgate = torch.sigmoid(outgate)\n",
    "\n",
    "        cy = (forgetgate * cx) + (ingate * cellgate)\n",
    "        hy = outgate * torch.tanh(cy)\n",
    "\n",
    "        return hy, (hy, cy)\n",
    "    \n",
    "    \n",
    "class LSTM(torch.nn.Module):\n",
    "    def __init__(self, input_size, hidden_size):\n",
    "        super().__init__()\n",
    "        self.cell = LSTMCell(input_size, hidden_size)\n",
    "        \n",
    "    def forward(self, x):\n",
    "        state = (\n",
    "            torch.zeros((x.size(1), self.cell.hidden_size), device=x.device), \n",
    "            torch.zeros((x.size(1), self.cell.hidden_size), device=x.device)\n",
    "        )\n",
    "        xs = x.unbind(0)\n",
    "        y = []\n",
    "        for t in range(len(xs)):\n",
    "            hy, state = self.cell(xs[t], state)\n",
    "            y += [hy]\n",
    "        return torch.stack(y), state"
   ]
  },
  {
   "cell_type": "markdown",
   "metadata": {},
   "source": [
    "### Hard"
   ]
  },
  {
   "cell_type": "code",
   "execution_count": null,
   "metadata": {},
   "outputs": [],
   "source": [
    "class HardLSTMCell(torch.nn.Module):\n",
    "    def __init__(self, input_size, hidden_size):\n",
    "        super().__init__()\n",
    "        self.input_size = input_size\n",
    "        self.hidden_size = hidden_size\n",
    "        self.weight_ih = torch.nn.Parameter(torch.randn(4 * hidden_size, input_size))\n",
    "        self.weight_hh = torch.nn.Parameter(torch.randn(4 * hidden_size, hidden_size))\n",
    "        self.bias_ih = torch.nn.Parameter(torch.randn(4 * hidden_size))\n",
    "        self.bias_hh = torch.nn.Parameter(torch.randn(4 * hidden_size))\n",
    "\n",
    "    def forward(self, input, state):\n",
    "        # type: (Tensor, Tuple[Tensor, Tensor]) -> Tuple[Tensor, Tuple[Tensor, Tensor]]\n",
    "        hx, cx = state\n",
    "        gates = (torch.mm(input, self.weight_ih.t()) + self.bias_ih +\n",
    "                 torch.mm(hx, self.weight_hh.t()) + self.bias_hh)\n",
    "        ingate, forgetgate, cellgate, outgate = gates.chunk(4, 1)\n",
    "\n",
    "        ingate = torch.clamp(0.2*ingate + 0.5, min=0., max=1.)\n",
    "        forgetgate = torch.clamp(0.2*forgetgate + 0.5, min=0., max=1.)\n",
    "        cellgate = torch.nn.functional.hardtanh_(cellgate)\n",
    "        outgate = torch.clamp(0.2*outgate + 0.5, min=0., max=1.)\n",
    "\n",
    "        cy = (forgetgate * cx) + (ingate * cellgate)\n",
    "        hy = outgate * torch.nn.functional.hardtanh_(cy)\n",
    "\n",
    "        return hy, (hy, cy)\n",
    "    \n",
    "    \n",
    "class HardLSTM(torch.nn.Module):\n",
    "    def __init__(self, input_size, hidden_size):\n",
    "        super().__init__()\n",
    "        self.cell = HardLSTMCell(input_size, hidden_size)\n",
    "        \n",
    "    def forward(self, x):\n",
    "        state = (\n",
    "            torch.zeros((x.size(1), self.cell.hidden_size), device=x.device), \n",
    "            torch.zeros((x.size(1), self.cell.hidden_size), device=x.device)\n",
    "        )\n",
    "        xs = x.unbind(0)\n",
    "        y = []\n",
    "        for t in range(len(xs)):\n",
    "            hy, state = self.cell(xs[t], state)\n",
    "            y += [hy]\n",
    "        return torch.stack(y), state"
   ]
  },
  {
   "cell_type": "markdown",
   "metadata": {},
   "source": [
    "## Profiling"
   ]
  },
  {
   "cell_type": "code",
   "execution_count": null,
   "metadata": {},
   "outputs": [],
   "source": [
    "batch = 128\n",
    "input_size = 1024\n",
    "hidden_size = 1024\n",
    "\n",
    "seq_len = 256"
   ]
  },
  {
   "cell_type": "markdown",
   "metadata": {},
   "source": [
    "### Vanilla\n",
    "\n",
    "#### LSTMCell"
   ]
  },
  {
   "cell_type": "code",
   "execution_count": null,
   "metadata": {},
   "outputs": [],
   "source": [
    "cell_hand = LSTMCell(input_size, hidden_size).to(device)\n",
    "cell_jit = torch.jit.script(cell_hand)\n",
    "cell = torch.nn.LSTMCell(input_size, hidden_size).to(device)"
   ]
  },
  {
   "cell_type": "code",
   "execution_count": null,
   "metadata": {},
   "outputs": [],
   "source": [
    "x = torch.empty((batch, input_size)).normal_().to(device)\n",
    "state = (torch.empty((batch, hidden_size)).normal_().to(device), torch.empty((batch, hidden_size)).normal_().to(device))"
   ]
  },
  {
   "cell_type": "code",
   "execution_count": null,
   "metadata": {},
   "outputs": [],
   "source": [
    "cell_jit.graph;\n",
    "cell_jit.graph_for(x, state);"
   ]
  },
  {
   "cell_type": "code",
   "execution_count": null,
   "metadata": {},
   "outputs": [],
   "source": [
    "%timeit -n 100 cell_hand(x, state)"
   ]
  },
  {
   "cell_type": "code",
   "execution_count": null,
   "metadata": {},
   "outputs": [],
   "source": [
    "%timeit -n 100 cell_jit(x, state)"
   ]
  },
  {
   "cell_type": "code",
   "execution_count": null,
   "metadata": {},
   "outputs": [],
   "source": [
    "%timeit -n 100 cell(x, state)"
   ]
  },
  {
   "cell_type": "markdown",
   "metadata": {},
   "source": [
    "#### LSTM"
   ]
  },
  {
   "cell_type": "code",
   "execution_count": null,
   "metadata": {},
   "outputs": [],
   "source": [
    "lstm_hand = LSTM(input_size, hidden_size).to(device)\n",
    "lstm_jit = torch.jit.script(lstm_hand)\n",
    "lstm = torch.nn.LSTM(input_size, hidden_size).to(device)"
   ]
  },
  {
   "cell_type": "code",
   "execution_count": null,
   "metadata": {},
   "outputs": [],
   "source": [
    "x = torch.empty((seq_len, batch, hidden_size)).normal_().to(device)"
   ]
  },
  {
   "cell_type": "code",
   "execution_count": null,
   "metadata": {},
   "outputs": [],
   "source": [
    "%timeit -n 100 lstm_hand(x)"
   ]
  },
  {
   "cell_type": "code",
   "execution_count": null,
   "metadata": {},
   "outputs": [],
   "source": [
    "%timeit -n 100 lstm_jit(x)"
   ]
  },
  {
   "cell_type": "code",
   "execution_count": null,
   "metadata": {},
   "outputs": [],
   "source": [
    "%timeit -n 100 lstm(x)"
   ]
  },
  {
   "cell_type": "markdown",
   "metadata": {},
   "source": [
    "### Hard\n",
    "\n",
    "#### HardLSTMCell"
   ]
  },
  {
   "cell_type": "code",
   "execution_count": null,
   "metadata": {},
   "outputs": [],
   "source": [
    "cell_hand = HardLSTMCell(input_size, hidden_size).to(device)\n",
    "cell_jit = torch.jit.script(cell_hand)"
   ]
  },
  {
   "cell_type": "code",
   "execution_count": null,
   "metadata": {},
   "outputs": [],
   "source": [
    "x = torch.empty((batch, input_size)).normal_().to(device)\n",
    "state = (torch.empty((batch, hidden_size)).normal_().to(device), torch.empty((batch, hidden_size)).normal_().to(device))"
   ]
  },
  {
   "cell_type": "code",
   "execution_count": null,
   "metadata": {},
   "outputs": [],
   "source": [
    "%timeit -n 100 cell_hand(x, state)"
   ]
  },
  {
   "cell_type": "code",
   "execution_count": null,
   "metadata": {},
   "outputs": [],
   "source": [
    "%timeit -n 100 cell_jit(x, state)"
   ]
  },
  {
   "cell_type": "markdown",
   "metadata": {},
   "source": [
    "#### HardLSTM"
   ]
  },
  {
   "cell_type": "code",
   "execution_count": null,
   "metadata": {},
   "outputs": [],
   "source": [
    "lstm_hand = HardLSTM(input_size, hidden_size).to(device)\n",
    "lstm_jit = torch.jit.script(lstm_hand)"
   ]
  },
  {
   "cell_type": "code",
   "execution_count": null,
   "metadata": {},
   "outputs": [],
   "source": [
    "x = torch.empty((seq_len, batch, hidden_size)).normal_().to(device)"
   ]
  },
  {
   "cell_type": "code",
   "execution_count": null,
   "metadata": {},
   "outputs": [],
   "source": [
    "%timeit -n 100 lstm_hand(x)"
   ]
  },
  {
   "cell_type": "code",
   "execution_count": null,
   "metadata": {},
   "outputs": [],
   "source": [
    "%timeit -n 100 lstm_jit(x)"
   ]
  },
  {
   "cell_type": "code",
   "execution_count": null,
   "metadata": {},
   "outputs": [],
   "source": []
  }
 ],
 "metadata": {
  "kernelspec": {
   "display_name": "Environment (conda_myrtlespeech)",
   "language": "python",
   "name": "conda_myrtlespeech"
  },
  "language_info": {
   "codemirror_mode": {
    "name": "ipython",
    "version": 3
   },
   "file_extension": ".py",
   "mimetype": "text/x-python",
   "name": "python",
   "nbconvert_exporter": "python",
   "pygments_lexer": "ipython3",
   "version": "3.7.3"
  }
 },
 "nbformat": 4,
 "nbformat_minor": 4
}
