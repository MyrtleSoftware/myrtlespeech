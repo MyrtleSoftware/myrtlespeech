{
 "cells": [
  {
   "cell_type": "markdown",
   "metadata": {},
   "source": [
    "# RNN-T Example Usage\n"
   ]
  },
  {
   "cell_type": "markdown",
   "metadata": {},
   "source": [
    "This notebook provides example usage of `myrtlespeech` for RNN-T training."
   ]
  },
  {
   "cell_type": "code",
   "execution_count": null,
   "metadata": {},
   "outputs": [],
   "source": [
    "%load_ext autoreload\n",
    "%autoreload 2"
   ]
  },
  {
   "cell_type": "code",
   "execution_count": null,
   "metadata": {},
   "outputs": [],
   "source": [
    "import os\n",
    "\n",
    "os.environ[\"CUDA_VISIBLE_DEVICES\"] = \"1\" # set this before importing torch"
   ]
  },
  {
   "cell_type": "code",
   "execution_count": null,
   "metadata": {},
   "outputs": [],
   "source": [
    "import os\n",
    "import pathlib\n",
    "\n",
    "import torch\n",
    "\n",
    "from myrtlespeech.builders.task_config import build\n",
    "from myrtlespeech.run.train import fit\n",
    "from myrtlespeech.run.eval import eval\n",
    "from myrtlespeech.protos import task_config_pb2\n",
    "from google.protobuf import text_format\n",
    "\n",
    "\n",
    "from myrtlespeech.run.callbacks.callback import CallbackHandler\n",
    "from myrtlespeech.run.run import TensorBoardLogger, Saver\n",
    "from myrtlespeech.run.callbacks.csv_logger import CSVLogger\n",
    "from myrtlespeech.run.callbacks.callback import Callback, ModelCallback\n",
    "from myrtlespeech.run.callbacks.clip_grad_norm import ClipGradNorm\n",
    "from myrtlespeech.run.callbacks.report_mean_batch_loss import ReportMeanBatchLoss\n",
    "from myrtlespeech.run.callbacks.stop_epoch_after import StopEpochAfter\n",
    "from myrtlespeech.run.callbacks.mixed_precision import MixedPrecision\n",
    "from myrtlespeech.run.callbacks.rnn_t_training import RNNTTraining\n",
    "from myrtlespeech.run.run import ReportRNNTDecoder"
   ]
  },
  {
   "cell_type": "code",
   "execution_count": null,
   "metadata": {},
   "outputs": [],
   "source": [
    "torch.backends.cudnn.benchmark = False # since variable size inputs"
   ]
  },
  {
   "cell_type": "code",
   "execution_count": null,
   "metadata": {},
   "outputs": [],
   "source": [
    "log_dir = \"/home/USER/INSERT/PATH/\""
   ]
  },
  {
   "cell_type": "markdown",
   "metadata": {},
   "source": [
    "Build the RNNT model defined in the config file:"
   ]
  },
  {
   "cell_type": "code",
   "execution_count": null,
   "metadata": {},
   "outputs": [],
   "source": [
    "# parse example config file\n",
    "with open(\"../src/myrtlespeech/configs/rnn_t_en.config\") as f:\n",
    "    task_config = text_format.Merge(f.read(), task_config_pb2.TaskConfig())\n",
    "\n",
    "task_config"
   ]
  },
  {
   "cell_type": "code",
   "execution_count": null,
   "metadata": {},
   "outputs": [],
   "source": [
    "# create all components for config\n",
    "# FYI: if using train-clean-100 & dev-clean this cell takes O(60s) \n",
    "seq_to_seq, epochs, train_loader, eval_loader = build(task_config)\n",
    "seq_to_seq"
   ]
  },
  {
   "cell_type": "markdown",
   "metadata": {},
   "source": [
    "## Maybe load model?"
   ]
  },
  {
   "cell_type": "code",
   "execution_count": null,
   "metadata": {},
   "outputs": [],
   "source": [
    "load_model = False\n",
    "if load_model:\n",
    "    fp = \"/home/user/model/fp/model.pt\"\n",
    "    seq_to_seq.model.load_state_dict(torch.load(fp))"
   ]
  },
  {
   "cell_type": "markdown",
   "metadata": {},
   "source": [
    "## Callbacks\n",
    "* Use callbacks to inject difference into training loop. \n",
    "* It is necessary (for now) to use the `RNNTTraining()` callback but the others are optional\n"
   ]
  },
  {
   "cell_type": "code",
   "execution_count": null,
   "metadata": {},
   "outputs": [],
   "source": [
    "mixed_precision_cb = MixedPrecision(seq_to_seq) # this can only be initialized once so place it in separate cell"
   ]
  },
  {
   "cell_type": "code",
   "execution_count": null,
   "metadata": {},
   "outputs": [],
   "source": [
    "\n",
    "rnnt_decoder_cb  = ReportRNNTDecoder(seq_to_seq.post_process, seq_to_seq.alphabet, eval_every=1, \n",
    "                                         skip_first_epoch=True)\n",
    "\n",
    "keys_to_log_in_csv = [\"epoch\", \n",
    "        f\"reports/{seq_to_seq.post_process.__class__.__name__}/wer\",\n",
    "        \"reports/ReportMeanBatchLoss\"]\n",
    "\n",
    "callbacks = [RNNTTraining(),\n",
    "            rnnt_decoder_cb,\n",
    "            ReportMeanBatchLoss(),\n",
    "             \n",
    "            #Note: the following three callbacks, if present, must appear in this order (see docstrings):\n",
    "            TensorBoardLogger(log_dir, seq_to_seq.model, histograms=False),\n",
    "            mixed_precision_cb,\n",
    "            ClipGradNorm(seq_to_seq, 200),\n",
    "            \n",
    "            # stop training prematurely (useful for debug). \n",
    "            # Ensure following line is commented out to perform full training\n",
    "            # StopEpochAfter(epoch_batches=20),\n",
    "            \n",
    "            # logging\n",
    "            CSVLogger(log_dir + \"log.csv\", keys=keys_to_log_in_csv),\n",
    "            \n",
    "            # save model @ end of epoch:\n",
    "            Saver(log_dir, seq_to_seq.model)] \n"
   ]
  },
  {
   "cell_type": "code",
   "execution_count": null,
   "metadata": {},
   "outputs": [],
   "source": [
    "fit(\n",
    "    seq_to_seq, \n",
    "    epochs=40,\n",
    "    train_loader=train_loader, \n",
    "    eval_loader=eval_loader,\n",
    "    callbacks=callbacks,\n",
    ")\n",
    "\n"
   ]
  },
  {
   "cell_type": "markdown",
   "metadata": {},
   "source": [
    "### Maybe eval?"
   ]
  },
  {
   "cell_type": "code",
   "execution_count": null,
   "metadata": {},
   "outputs": [],
   "source": [
    "run_eval = True\n",
    "\n",
    "\n",
    "eval_cbs = None\n",
    "if run_eval:\n",
    "    eval_cbs = [RNNTTraining(),\n",
    "                ReportMeanBatchLoss(), \n",
    "                ReportRNNTDecoder(seq_to_seq.post_process, seq_to_seq.alphabet),\n",
    "                CSVLogger(log_dir + f\"log_eval.csv\", keys=keys_to_log_in_csv)] \n",
    "    \n",
    "    eval(\n",
    "         seq_to_seq, \n",
    "         eval_loader=eval_loader,\n",
    "         callbacks=eval_cbs,\n",
    "    )\n",
    "    "
   ]
  },
  {
   "cell_type": "markdown",
   "metadata": {},
   "source": [
    "### Maybe save model"
   ]
  },
  {
   "cell_type": "code",
   "execution_count": null,
   "metadata": {},
   "outputs": [],
   "source": [
    "save_model = False\n",
    "fp_out = log_dir + \"model_saved.pt\"\n",
    "if save_model:\n",
    "    torch.save(seq_to_seq.model.state_dict(), fp_out)"
   ]
  },
  {
   "cell_type": "code",
   "execution_count": null,
   "metadata": {},
   "outputs": [],
   "source": []
  }
 ],
 "metadata": {
  "kernelspec": {
   "display_name": "Python 3",
   "language": "python",
   "name": "python3"
  },
  "language_info": {
   "codemirror_mode": {
    "name": "ipython",
    "version": 3
   },
   "file_extension": ".py",
   "mimetype": "text/x-python",
   "name": "python",
   "nbconvert_exporter": "python",
   "pygments_lexer": "ipython3",
   "version": "3.7.3"
  }
 },
 "nbformat": 4,
 "nbformat_minor": 2
}
