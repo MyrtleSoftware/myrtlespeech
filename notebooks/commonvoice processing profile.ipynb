{
 "cells": [
  {
   "cell_type": "code",
   "execution_count": null,
   "metadata": {},
   "outputs": [],
   "source": [
    "import cProfile\n",
    "import pydub\n",
    "import torchaudio\n",
    "import numpy as np\n",
    "import torch"
   ]
  },
  {
   "cell_type": "code",
   "execution_count": null,
   "metadata": {},
   "outputs": [],
   "source": [
    "fp_in = \"/home/julian/Music/SZA - Love Galore ft. Travis Scott.mp3\"\n",
    "fp_wav = \"/home/julian/Music/SZA.wav\"\n",
    "fp_wav2 = \"/home/julian/Music/SZA2.wav\"\n",
    "fp_wav44 = \"/home/julian/Music/SZA44.wav\""
   ]
  },
  {
   "cell_type": "code",
   "execution_count": null,
   "metadata": {},
   "outputs": [],
   "source": []
  },
  {
   "cell_type": "code",
   "execution_count": null,
   "metadata": {},
   "outputs": [],
   "source": [
    "def run1(path, save=False, resample=True):\n",
    "    audio = pydub.AudioSegment.from_mp3(path)\n",
    "    if resample:\n",
    "        audio = audio.set_frame_rate(16000)\n",
    "\n",
    "    if save:\n",
    "        # Save sample as file\n",
    "        audio.export(fp_wav2, format=\"wav\")\n",
    "    return audio\n",
    "\n",
    "def read_wav(path):\n",
    "    audio = pydub.AudioSegment.from_wav(path)\n",
    "    return torch.tensor(np.frombuffer(audio._data, dtype=np.float32))\n",
    "\n",
    "def read_wav_resample(path):\n",
    "    audio = pydub.AudioSegment.from_wav(path)\n",
    "    audio = audio.set_frame_rate(16000)\n",
    "    return torch.tensor(np.frombuffer(audio._data))\n",
    "\n"
   ]
  },
  {
   "cell_type": "code",
   "execution_count": null,
   "metadata": {},
   "outputs": [],
   "source": [
    "data_pydub = read_wav(fp_wav)"
   ]
  },
  {
   "cell_type": "code",
   "execution_count": null,
   "metadata": {},
   "outputs": [],
   "source": [
    "resampler = torchaudio.transforms.Resample(orig_freq=44000, new_freq=16000)\n",
    "\n",
    "def run2(path, save=False, resample=True):\n",
    "    audio, freq = torchaudio.load(path)\n",
    "    if resample:\n",
    "        audio = resampler(audio)\n",
    "    \n",
    "    if save:\n",
    "        torchaudio.save(fp_wav2, audio, 16000)\n",
    "    return audio"
   ]
  },
  {
   "cell_type": "code",
   "execution_count": null,
   "metadata": {},
   "outputs": [],
   "source": [
    "data_pydub = read_wav(fp_wav)\n",
    "data_pytorch = run2(fp_wav, save=False, resample=False)\n",
    "\n",
    "print(data_pydub.shape)\n",
    "print(data_pytorch.shape)\n",
    "\n",
    "# assert data_pydub.shape[0] * 2 == data_pytorch.shape[1]\n",
    "# print(\"passed\")\n",
    "\n",
    "# assert torch.allclose(data_pydub, data_pytorch[0,])\n",
    "# print(\"passed2\")\n",
    "idx = 2458500\n",
    "\n",
    "print(data_pydub[idx])\n",
    "data_pytorch[1, idx]"
   ]
  },
  {
   "cell_type": "code",
   "execution_count": null,
   "metadata": {},
   "outputs": [],
   "source": [
    "cProfile.run(\"run1(fp_in, save=True, resample=False)\")"
   ]
  },
  {
   "cell_type": "code",
   "execution_count": null,
   "metadata": {},
   "outputs": [],
   "source": []
  },
  {
   "cell_type": "code",
   "execution_count": null,
   "metadata": {},
   "outputs": [],
   "source": [
    "cProfile.run(\"run2(fp_in, fp_wav2)\")"
   ]
  },
  {
   "cell_type": "code",
   "execution_count": null,
   "metadata": {},
   "outputs": [],
   "source": [
    "cProfile.run('run1(fp_wav, fp_wav2)')"
   ]
  },
  {
   "cell_type": "code",
   "execution_count": null,
   "metadata": {},
   "outputs": [],
   "source": [
    "res, val = torchaudio.load(fp_wav)\n",
    "res.shape, val"
   ]
  },
  {
   "cell_type": "code",
   "execution_count": null,
   "metadata": {},
   "outputs": [],
   "source": [
    "torchaudio.info(fp)\n",
    "cProfile.run('torchaudio.load(fp_wav)')"
   ]
  },
  {
   "cell_type": "code",
   "execution_count": null,
   "metadata": {},
   "outputs": [],
   "source": [
    "def _process_audio(self, root: str, file: str) -> bool:\n",
    "    \"\"\"Returns True if sample was dropped due to being too long.\"\"\"\n",
    "    path = os.path.join(root, \"clips\", file)\n",
    "    si, _ = torchaudio.info(path)\n",
    "    duration = (si.length / si.channels) / si.rate\n",
    "    if self.max_duration is not None and duration > self.max_duration:\n",
    "        return True\n",
    "\n",
    "    down_file = file[:-3] + \"wav\"\n",
    "    down_path = os.path.join(root, \"clips_down\", down_file)\n",
    "    if not os.path.isfile(down_path):\n",
    "        # Downsample to 16KHz sample rate for consistency with other data\n",
    "        # sets. Not using torchaudio and SoxEffectChain for this since it\n",
    "        # is not thread safe\n",
    "        audio = pydub.AudioSegment.from_mp3(path)\n",
    "        audio = audio.set_frame_rate(16000)\n",
    "\n",
    "        # Save sample as file\n",
    "        audio.export(down_path, format=\"wav\")\n",
    "    self.paths.append(down_path)\n",
    "    self.durations.append(duration)\n",
    "    return False"
   ]
  }
 ],
 "metadata": {
  "kernelspec": {
   "display_name": "Python 3",
   "language": "python",
   "name": "python3"
  },
  "language_info": {
   "codemirror_mode": {
    "name": "ipython",
    "version": 3
   },
   "file_extension": ".py",
   "mimetype": "text/x-python",
   "name": "python",
   "nbconvert_exporter": "python",
   "pygments_lexer": "ipython3",
   "version": "3.7.3"
  }
 },
 "nbformat": 4,
 "nbformat_minor": 2
}
