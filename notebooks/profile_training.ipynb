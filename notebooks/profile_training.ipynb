{
 "cells": [
  {
   "cell_type": "markdown",
   "metadata": {},
   "source": [
    "# RNN-T Example Usage\n"
   ]
  },
  {
   "cell_type": "code",
   "execution_count": null,
   "metadata": {},
   "outputs": [],
   "source": [
    "log_dir = \"/home/julian/exp/speech/myrtlespeech/rnnt/test/1/\""
   ]
  },
  {
   "cell_type": "code",
   "execution_count": null,
   "metadata": {},
   "outputs": [],
   "source": [
    "%load_ext autoreload\n",
    "%autoreload 2"
   ]
  },
  {
   "cell_type": "code",
   "execution_count": null,
   "metadata": {},
   "outputs": [],
   "source": [
    "import os\n",
    "\n",
    "os.environ[\"CUDA_VISIBLE_DEVICES\"] = \"0\""
   ]
  },
  {
   "cell_type": "code",
   "execution_count": null,
   "metadata": {},
   "outputs": [],
   "source": [
    "import os\n",
    "import pathlib\n",
    "import typing\n",
    "import cProfile \n",
    "\n",
    "import torch\n",
    "from google.protobuf import text_format\n",
    "\n",
    "from myrtlespeech.model.rnn_t import RNNTEncoder, RNNT\n",
    "from myrtlespeech.run.run import TensorBoardLogger, Saver\n",
    "from myrtlespeech.run.callbacks.csv_logger import CSVLogger\n",
    "from myrtlespeech.run.callbacks.callback import Callback, ModelCallback\n",
    "from myrtlespeech.run.callbacks.clip_grad_norm import ClipGradNorm\n",
    "from myrtlespeech.run.callbacks.report_mean_batch_loss import ReportMeanBatchLoss\n",
    "from myrtlespeech.run.callbacks.stop_epoch_after import StopEpochAfter\n",
    "from myrtlespeech.run.callbacks.mixed_precision import MixedPrecision\n",
    "from myrtlespeech.post_process.utils import levenshtein\n",
    "from myrtlespeech.builders.task_config import build\n",
    "from myrtlespeech.run.train import fit\n",
    "from myrtlespeech.protos import task_config_pb2\n",
    "from myrtlespeech.run.stage import Stage\n",
    "\n",
    "from myrtlespeech.run.train import run_stage\n",
    "from myrtlespeech.run.callbacks.callback import CallbackHandler"
   ]
  },
  {
   "cell_type": "code",
   "execution_count": null,
   "metadata": {},
   "outputs": [],
   "source": [
    "from myrtlespeech.run.train import run_stage\n",
    "from myrtlespeech.run.callbacks.callback import CallbackHandler\n",
    "from myrtlespeech.run.callbacks.rnn_t_training import RNNTTraining\n",
    "from myrtlespeech.run.run import ReportRNNTDecoder"
   ]
  },
  {
   "cell_type": "code",
   "execution_count": null,
   "metadata": {},
   "outputs": [],
   "source": [
    "torch.backends.cudnn.benchmark = False # since variable size inputs\n"
   ]
  },
  {
   "cell_type": "markdown",
   "metadata": {},
   "source": [
    "Build the RNNT model defined in the config file:"
   ]
  },
  {
   "cell_type": "code",
   "execution_count": null,
   "metadata": {},
   "outputs": [],
   "source": [
    "# parse example config file\n",
    "with open(\"../src/myrtlespeech/configs/rnn_t_en_ds_int.config\") as f:\n",
    "    task_config = text_format.Merge(f.read(), task_config_pb2.TaskConfig())\n",
    "\n",
    "task_config"
   ]
  },
  {
   "cell_type": "code",
   "execution_count": null,
   "metadata": {},
   "outputs": [],
   "source": [
    "# create all components for config\n",
    "# FYI: if using train-clean-100 & dev-clean this cell takes O(60s) \n",
    "seq_to_seq, epochs, train_loader, eval_loader = build(task_config)\n"
   ]
  },
  {
   "cell_type": "code",
   "execution_count": null,
   "metadata": {},
   "outputs": [],
   "source": [
    "seq_to_seq"
   ]
  },
  {
   "cell_type": "markdown",
   "metadata": {},
   "source": [
    "### Maybe save model"
   ]
  },
  {
   "cell_type": "code",
   "execution_count": null,
   "metadata": {},
   "outputs": [],
   "source": [
    "save_model = False\n",
    "fp_out = log_dir + \"saved_state_dict.pt\"\n",
    "if save_model:\n",
    "    torch.save(seq_to_seq.model.state_dict(), fp_out)"
   ]
  },
  {
   "cell_type": "markdown",
   "metadata": {},
   "source": [
    "## maybe load model"
   ]
  },
  {
   "cell_type": "code",
   "execution_count": null,
   "metadata": {},
   "outputs": [],
   "source": [
    "load_model = False\n",
    "if load_model:\n",
    "    fp = \"/home/julian/models/dsint_imported_w_zeros.pt\"\n",
    "    seq_to_seq.model.load_state_dict(torch.load(fp))"
   ]
  },
  {
   "cell_type": "markdown",
   "metadata": {},
   "source": [
    "### Maybe change decoder:"
   ]
  },
  {
   "cell_type": "code",
   "execution_count": null,
   "metadata": {},
   "outputs": [],
   "source": [
    "use_beam = False\n",
    "no_max = False\n",
    "\n",
    "from myrtlespeech.post_process.rnn_t_beam_decoder import RNNTBeamDecoder\n",
    "from myrtlespeech.post_process.rnn_t_greedy_decoder import RNNTGreedyDecoder\n",
    "\n",
    "if use_beam:\n",
    "    decoder = RNNTBeamDecoder(blank_index=28,\n",
    "                                beam_width=4,\n",
    "                                 length_norm=False,\n",
    "                                 max_symbols_per_step = 4,\n",
    "                             model=seq_to_seq.model)\n",
    "    beam_str = \"beam\"\n",
    "else:\n",
    "    decoder = RNNTGreedyDecoder(blank_index=28,\n",
    "                                 max_symbols_per_step = 4,\n",
    "                               model=seq_to_seq.model) \n",
    "    beam_str = \"greedy\"\n",
    "seq_to_seq.post_process = decoder\n",
    "\n",
    "if no_max:\n",
    "    seq_to_seq.post_process.max_symbols_per_step = 100\n",
    "else:\n",
    "    seq_to_seq.post_process.max_symbols_per_step = 4"
   ]
  },
  {
   "cell_type": "markdown",
   "metadata": {},
   "source": [
    "## Callbacks\n",
    "* Use callbacks to inject features into training loop. \n",
    "* It is necessary (for now) to use the `RNNTTraining()` callback but the others are optional\n"
   ]
  },
  {
   "cell_type": "code",
   "execution_count": null,
   "metadata": {},
   "outputs": [],
   "source": [
    "#custom callback to monitor training and print results\n",
    "class PrintCB(Callback):\n",
    "    def __init__(self):\n",
    "        super().__init__()\n",
    "    \n",
    "    def on_batch_end(self, **kwargs):\n",
    "        \n",
    "        if self.training:\n",
    "            print(kwargs[\"epoch_batches\"], \"loss\", kwargs[\"reports\"][\"ReportMeanBatchLoss\"], kwargs[\"last_loss\"].item())\n",
    "            \n",
    "            return\n",
    "        epoch = kwargs[\"epoch\"]\n",
    "        if kwargs[\"epoch_batches\"] % 100 == 0 and kwargs[\"epoch_batches\"] != 0:\n",
    "            print(f\"{kwargs['epoch_batches']} batches completed\")\n",
    "            try:\n",
    "                wer_reports = kwargs[\"reports\"][seq_to_seq.post_process.__class__.__name__]\n",
    "                wer = wer_reports[\"wer\"]\n",
    "                if len(wer_reports[\"transcripts\"]) > 0:\n",
    "                    transcripts = wer_reports[\"transcripts\"][0] #take first element\n",
    "                    pred, exp = transcripts\n",
    "                    pred = \"\".join(pred)\n",
    "                    exp = \"\".join(exp)\n",
    "                    loss = kwargs[\"reports\"][\"ReportMeanBatchLoss\"]\n",
    "                    print(\"batch end, pred: {}, exp: {}, wer: {:.4f}\".format(pred, exp, wer, ))\n",
    "\n",
    "            except KeyError:\n",
    "                print(\"no wer - using new decoder?\")\n",
    "        \n",
    "        \n",
    "            \n",
    "    def on_epoch_end(self, **kwargs):\n",
    "        if self.training:\n",
    "            return\n",
    "        epoch = kwargs[\"epoch\"]\n",
    "        \n",
    "        try:\n",
    "            \n",
    "            loss = kwargs[\"reports\"][\"ReportMeanBatchLoss\"]\n",
    "            \n",
    "            wer_reports = kwargs[\"reports\"][seq_to_seq.post_process.__class__.__name__]\n",
    "            wer = wer_reports[\"wer\"]\n",
    "            \n",
    "            out_str = \"{}, loss: {:.8f}\".format(epoch, loss)\n",
    "            \n",
    "            if len(wer_reports[\"transcripts\"]) > 0:\n",
    "                transcripts = wer_reports[\"transcripts\"][0] #take first element\n",
    "                pred, exp = transcripts\n",
    "                pred = \"\".join(pred)\n",
    "                exp = \"\".join(exp)\n",
    "                \n",
    "                out_str += \", wer: {:.4f}, pred: {}, exp: {},\".format(wer, pred, exp)\n",
    "            print(out_str)\n",
    "        except KeyError:\n",
    "            \n",
    "            print(\"no wer - using new decoder?\")        \n",
    "        "
   ]
  },
  {
   "cell_type": "markdown",
   "metadata": {},
   "source": [
    "### Maybe Change lr"
   ]
  },
  {
   "cell_type": "code",
   "execution_count": null,
   "metadata": {},
   "outputs": [],
   "source": [
    "change_lr = False\n",
    "new_lr = 0.0003\n",
    "\n",
    "\n",
    "\n",
    "for param_group in seq_to_seq.optim.param_groups:\n",
    "    print(\"current lr: \", param_group['lr'])\n",
    "\n",
    "if change_lr:\n",
    "    for param_group in seq_to_seq.optim.param_groups:\n",
    "        param_group['lr'] = new_lr\n",
    "\n",
    "for param_group in seq_to_seq.optim.param_groups:\n",
    "    print(\"new lr: \", param_group['lr'])"
   ]
  },
  {
   "cell_type": "code",
   "execution_count": null,
   "metadata": {},
   "outputs": [],
   "source": [
    "optim_layer_wise = True\n",
    "\n",
    "from torch.optim import Adam\n",
    "\n",
    "if optim_layer_wise:\n",
    "    optim = Adam(\n",
    "    [\n",
    "        {\"params\": seq_to_seq.model.encode.parameters(), \"lr\": 0.0003},\n",
    "        {\"params\": seq_to_seq.model.predict_net.parameters()},\n",
    "        {\"params\": seq_to_seq.model.joint_net.parameters(),},\n",
    "    ],\n",
    "    lr=0.0003,\n",
    "    )\n",
    "    seq_to_seq.optim = optim"
   ]
  },
  {
   "cell_type": "code",
   "execution_count": null,
   "metadata": {},
   "outputs": [],
   "source": [
    "from myrtlespeech.run.callbacks.rnn_t_training import RNNTTraining\n",
    "from myrtlespeech.run.run import ReportRNNTDecoder\n",
    "\n",
    "rnnt_decoder_cb  = ReportRNNTDecoder(seq_to_seq.post_process, seq_to_seq.alphabet, eval_every=1, \n",
    "                                         skip_first_epoch=True)\n",
    "\n",
    "\n",
    "keys_to_log = [\"epoch\", \n",
    "        f\"reports/{seq_to_seq.post_process.__class__.__name__}/wer\",\n",
    "        \"reports/ReportMeanBatchLoss\"]\n",
    "\n",
    "\n",
    "\n",
    "callbacks = [RNNTTraining(),\n",
    "            ReportMeanBatchLoss(), \n",
    "            #MixedPrecision(seq_to_seq),\n",
    "            ClipGradNorm(seq_to_seq, 200),\n",
    "            rnnt_decoder_cb,\n",
    "             \n",
    "            #stop prematurely (useful for debug). Ensure following line is commented out to perform full training\n",
    "            StopEpochAfter(epoch_batches=1000),\n",
    "            \n",
    "            # logging\n",
    "            CSVLogger(log_dir + \"log.csv\", keys=keys_to_log),\n",
    "            TensorBoardLogger(log_dir, seq_to_seq.model, histograms=False),\n",
    "            PrintCB(),\n",
    "            \n",
    "            Saver(log_dir, seq_to_seq.model)] \n"
   ]
  },
  {
   "cell_type": "code",
   "execution_count": null,
   "metadata": {},
   "outputs": [],
   "source": [
    "is_training=True\n",
    "cb_handler = CallbackHandler(callbacks, is_training)\n",
    "cb_handler.on_train_begin(epochs=1)\n",
    "run_stage(seq_to_seq, cb_handler, train_loader, is_training=is_training)"
   ]
  },
  {
   "cell_type": "code",
   "execution_count": null,
   "metadata": {},
   "outputs": [],
   "source": [
    "cProfile.run(\"\"\"run_stage(seq_to_seq, cb_handler, train_loader, is_training=is_training)\"\"\")"
   ]
  },
  {
   "cell_type": "code",
   "execution_count": null,
   "metadata": {},
   "outputs": [],
   "source": [
    "fit(\n",
    "    seq_to_seq, \n",
    "    epochs=40,\n",
    "    train_loader=train_loader, \n",
    "    eval_loader=eval_loader,\n",
    "    callbacks=callbacks,\n",
    ")\n",
    "\n"
   ]
  },
  {
   "cell_type": "code",
   "execution_count": null,
   "metadata": {},
   "outputs": [],
   "source": [
    "import torch\n",
    "import gc\n",
    "for obj in gc.get_objects():\n",
    "    try:\n",
    "        if torch.is_tensor(obj) or (hasattr(obj, 'data') and torch.is_tensor(obj.data)):\n",
    "            print(type(obj), obj.size())\n",
    "    except: pass"
   ]
  },
  {
   "cell_type": "markdown",
   "metadata": {},
   "source": [
    "### Maybe eval"
   ]
  },
  {
   "cell_type": "code",
   "execution_count": null,
   "metadata": {},
   "outputs": [],
   "source": [
    "run_eval = True\n",
    "\n",
    "\n",
    "eval_cbs = None\n",
    "if run_eval:\n",
    "    eval_cbs = [RNNTTraining(),\n",
    "            ReportMeanBatchLoss(), \n",
    "            ReportRNNTDecoder(seq_to_seq.post_process, seq_to_seq.alphabet),\n",
    "            CSVLogger(log_dir + f\"log_eval{beam_str}.csv\", keys=keys_to_log),\n",
    "            PrintCB(),] \n",
    "    cb_handler = CallbackHandler(eval_cbs, False)\n",
    "    cb_handler.on_train_begin(epochs=1)\n",
    "    \n",
    "    run_stage(seq_to_seq, cb_handler, eval_loader, is_training=False)\n",
    "    "
   ]
  },
  {
   "cell_type": "code",
   "execution_count": null,
   "metadata": {},
   "outputs": [],
   "source": []
  }
 ],
 "metadata": {
  "kernelspec": {
   "display_name": "Python 3",
   "language": "python",
   "name": "python3"
  },
  "language_info": {
   "codemirror_mode": {
    "name": "ipython",
    "version": 3
   },
   "file_extension": ".py",
   "mimetype": "text/x-python",
   "name": "python",
   "nbconvert_exporter": "python",
   "pygments_lexer": "ipython3",
   "version": "3.7.3"
  }
 },
 "nbformat": 4,
 "nbformat_minor": 2
}
