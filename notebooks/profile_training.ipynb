{
 "cells": [
  {
   "cell_type": "markdown",
   "metadata": {},
   "source": [
    "# RNN-T Training profiling\n"
   ]
  },
  {
   "cell_type": "markdown",
   "metadata": {},
   "source": [
    "This notebook profiles training of RNN-T."
   ]
  },
  {
   "cell_type": "code",
   "execution_count": null,
   "metadata": {},
   "outputs": [],
   "source": [
    "log_dir = \"/logdir/\""
   ]
  },
  {
   "cell_type": "code",
   "execution_count": null,
   "metadata": {},
   "outputs": [],
   "source": [
    "%load_ext autoreload\n",
    "%autoreload 2"
   ]
  },
  {
   "cell_type": "code",
   "execution_count": null,
   "metadata": {},
   "outputs": [],
   "source": [
    "import os\n",
    "\n",
    "os.environ[\"CUDA_VISIBLE_DEVICES\"] = \"0\""
   ]
  },
  {
   "cell_type": "code",
   "execution_count": null,
   "metadata": {},
   "outputs": [],
   "source": [
    "import os\n",
    "import pathlib\n",
    "import typing\n",
    "import cProfile \n",
    "\n",
    "import torch\n",
    "from google.protobuf import text_format\n",
    "\n",
    "from myrtlespeech.model.rnn_t import RNNTEncoder, RNNT\n",
    "from myrtlespeech.run.run import TensorBoardLogger, Saver\n",
    "from myrtlespeech.run.callbacks.csv_logger import CSVLogger\n",
    "from myrtlespeech.run.callbacks.callback import Callback, ModelCallback\n",
    "from myrtlespeech.run.callbacks.clip_grad_norm import ClipGradNorm\n",
    "from myrtlespeech.run.callbacks.report_mean_batch_loss import ReportMeanBatchLoss\n",
    "from myrtlespeech.run.callbacks.stop_epoch_after import StopEpochAfter\n",
    "from myrtlespeech.run.callbacks.mixed_precision import MixedPrecision\n",
    "from myrtlespeech.post_process.utils import levenshtein\n",
    "from myrtlespeech.builders.task_config import build\n",
    "from myrtlespeech.run.train import fit\n",
    "from myrtlespeech.protos import task_config_pb2\n",
    "from myrtlespeech.run.stage import Stage\n",
    "\n",
    "from myrtlespeech.run.train import run_stage\n",
    "from myrtlespeech.run.callbacks.callback import CallbackHandler"
   ]
  },
  {
   "cell_type": "code",
   "execution_count": null,
   "metadata": {},
   "outputs": [],
   "source": [
    "from myrtlespeech.run.train import run_stage\n",
    "from myrtlespeech.run.callbacks.callback import CallbackHandler\n",
    "from myrtlespeech.run.callbacks.rnn_t_training import RNNTTraining\n",
    "from myrtlespeech.run.run import ReportRNNTDecoder"
   ]
  },
  {
   "cell_type": "code",
   "execution_count": null,
   "metadata": {},
   "outputs": [],
   "source": [
    "torch.backends.cudnn.benchmark = False # since variable size inputs"
   ]
  },
  {
   "cell_type": "markdown",
   "metadata": {},
   "source": [
    "Build the RNNT model defined in the config file:"
   ]
  },
  {
   "cell_type": "code",
   "execution_count": null,
   "metadata": {},
   "outputs": [],
   "source": [
    "# parse example config file\n",
    "with open(\"../src/myrtlespeech/configs/rnn_t_en.config\") as f:\n",
    "    task_config = text_format.Merge(f.read(), task_config_pb2.TaskConfig())\n",
    "\n",
    "task_config"
   ]
  },
  {
   "cell_type": "code",
   "execution_count": null,
   "metadata": {},
   "outputs": [],
   "source": [
    "# create all components for config\n",
    "seq_to_seq, epochs, train_loader, eval_loader = build(task_config)\n"
   ]
  },
  {
   "cell_type": "markdown",
   "metadata": {},
   "source": [
    "### Maybe load model"
   ]
  },
  {
   "cell_type": "code",
   "execution_count": null,
   "metadata": {},
   "outputs": [],
   "source": [
    "load_model = False\n",
    "if load_model:\n",
    "    fp = \"/home/julian/models/dsint_imported_w_zeros.pt\"\n",
    "    seq_to_seq.model.load_state_dict(torch.load(fp))"
   ]
  },
  {
   "cell_type": "markdown",
   "metadata": {},
   "source": [
    "### Maybe change decoder:"
   ]
  },
  {
   "cell_type": "code",
   "execution_count": null,
   "metadata": {},
   "outputs": [],
   "source": [
    "use_beam = False\n",
    "no_max = False\n",
    "\n",
    "from myrtlespeech.post_process.rnn_t_beam_decoder import RNNTBeamDecoder\n",
    "from myrtlespeech.post_process.rnn_t_greedy_decoder import RNNTGreedyDecoder\n",
    "\n",
    "if use_beam:\n",
    "    decoder = RNNTBeamDecoder(blank_index=28,\n",
    "                                beam_width=4,\n",
    "                                 length_norm=False,\n",
    "                                 max_symbols_per_step = 4,\n",
    "                             model=seq_to_seq.model)\n",
    "    beam_str = \"beam\"\n",
    "else:\n",
    "    decoder = RNNTGreedyDecoder(blank_index=28,\n",
    "                                 max_symbols_per_step = 4,\n",
    "                               model=seq_to_seq.model) \n",
    "    beam_str = \"greedy\"\n",
    "seq_to_seq.post_process = decoder\n",
    "\n",
    "if no_max:\n",
    "    seq_to_seq.post_process.max_symbols_per_step = 100\n",
    "else:\n",
    "    seq_to_seq.post_process.max_symbols_per_step = 4"
   ]
  },
  {
   "cell_type": "markdown",
   "metadata": {},
   "source": [
    "### Define Callbacks"
   ]
  },
  {
   "cell_type": "code",
   "execution_count": null,
   "metadata": {},
   "outputs": [],
   "source": [
    "mixed_precision_cb = MixedPrecision(seq_to_seq) # this can only be initialized once so place it in separate cell"
   ]
  },
  {
   "cell_type": "code",
   "execution_count": null,
   "metadata": {},
   "outputs": [],
   "source": [
    "\n",
    "rnnt_decoder_cb  = ReportRNNTDecoder(seq_to_seq.post_process, seq_to_seq.alphabet, eval_every=4, \n",
    "                                         skip_first_epoch=True)\n",
    "\n",
    "keys_to_log_in_csv = [\"epoch\", \n",
    "        f\"reports/{seq_to_seq.post_process.__class__.__name__}/wer\",\n",
    "        \"reports/ReportMeanBatchLoss\"]\n",
    "\n",
    "callbacks = [RNNTTraining(),\n",
    "            rnnt_decoder_cb,\n",
    "            ReportMeanBatchLoss(),\n",
    "             \n",
    "            #Note: the following three callbacks, if present, must appear in this order (see docstrings):\n",
    "            TensorBoardLogger(log_dir, seq_to_seq.model, histograms=False), #Note: histograms=True adds large overhead\n",
    "            mixed_precision_cb,\n",
    "            ClipGradNorm(seq_to_seq, 200),\n",
    "            \n",
    "            # stop training prematurely (useful for debug). \n",
    "            # Ensure following line is commented out to perform full training\n",
    "            StopEpochAfter(epoch_batches=2),\n",
    "            \n",
    "            # logging\n",
    "            CSVLogger(log_dir + \"log.csv\", keys=keys_to_log_in_csv),\n",
    "            \n",
    "            # save model @ end of epoch:\n",
    "            Saver(log_dir, seq_to_seq.model)] \n",
    "\n"
   ]
  },
  {
   "cell_type": "code",
   "execution_count": null,
   "metadata": {},
   "outputs": [],
   "source": [
    "is_training=True\n",
    "cb_handler = CallbackHandler(callbacks, is_training)\n",
    "cb_handler.on_train_begin(epochs=1)\n",
    "run_stage(seq_to_seq, cb_handler, train_loader, is_training=is_training)"
   ]
  },
  {
   "cell_type": "code",
   "execution_count": null,
   "metadata": {},
   "outputs": [],
   "source": [
    "cProfile.run(\"\"\"run_stage(seq_to_seq, cb_handler, train_loader, is_training=is_training)\"\"\")"
   ]
  },
  {
   "cell_type": "code",
   "execution_count": null,
   "metadata": {},
   "outputs": [],
   "source": []
  }
 ],
 "metadata": {
  "kernelspec": {
   "display_name": "Python 3",
   "language": "python",
   "name": "python3"
  },
  "language_info": {
   "codemirror_mode": {
    "name": "ipython",
    "version": 3
   },
   "file_extension": ".py",
   "mimetype": "text/x-python",
   "name": "python",
   "nbconvert_exporter": "python",
   "pygments_lexer": "ipython3",
   "version": "3.7.3"
  }
 },
 "nbformat": 4,
 "nbformat_minor": 2
}
