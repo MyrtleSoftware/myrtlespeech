{
 "cells": [
  {
   "cell_type": "markdown",
   "metadata": {},
   "source": [
    "# API Development\n",
    "\n",
    "This notebook exists to develop the API in before moving the code to well-tested, documented Python files and any new stable models to Protobuf configurations.\n",
    "\n",
    "Currently being used to bring-up the DS2 model."
   ]
  },
  {
   "cell_type": "code",
   "execution_count": null,
   "metadata": {},
   "outputs": [],
   "source": [
    "# %load_ext autoreload\n",
    "# %autoreload 2"
   ]
  },
  {
   "cell_type": "code",
   "execution_count": null,
   "metadata": {},
   "outputs": [],
   "source": [
    "import os\n",
    "import pathlib\n",
    "import typing\n",
    "\n",
    "import torch\n",
    "from google.protobuf import text_format\n",
    "\n",
    "from myrtlespeech.model.deep_speech_2 import DeepSpeech2\n",
    "from myrtlespeech.model.speech_to_text import SpeechToText\n",
    "from myrtlespeech.run.callbacks.csv_logger import CSVLogger\n",
    "from myrtlespeech.run.callbacks.callback import Callback, ModelCallback\n",
    "from myrtlespeech.run.callbacks.clip_grad_norm import ClipGradNorm\n",
    "from myrtlespeech.run.callbacks.report_mean_batch_loss import ReportMeanBatchLoss\n",
    "from myrtlespeech.run.callbacks.stop_epoch_after import StopEpochAfter\n",
    "from myrtlespeech.run.callbacks.mixed_precision import MixedPrecision\n",
    "from myrtlespeech.post_process.utils import levenshtein\n",
    "from myrtlespeech.post_process.ctc_greedy_decoder import CTCGreedyDecoder\n",
    "from myrtlespeech.post_process.ctc_beam_decoder import CTCBeamDecoder\n",
    "from myrtlespeech.builders.task_config import build\n",
    "from myrtlespeech.run.train import fit\n",
    "from myrtlespeech.protos import task_config_pb2\n",
    "from myrtlespeech.run.stage import Stage"
   ]
  },
  {
   "cell_type": "code",
   "execution_count": null,
   "metadata": {},
   "outputs": [],
   "source": [
    "os.environ[\"CUDA_VISIBLE_DEVICES\"] = \"1\""
   ]
  },
  {
   "cell_type": "code",
   "execution_count": null,
   "metadata": {},
   "outputs": [],
   "source": [
    "torch.backends.cudnn.benchmark = False"
   ]
  },
  {
   "cell_type": "markdown",
   "metadata": {},
   "source": [
    "Build the DeepSpeech2 model defined in the config file:"
   ]
  },
  {
   "cell_type": "code",
   "execution_count": null,
   "metadata": {},
   "outputs": [],
   "source": [
    "from myrtlespeech.model.cnn import MaskConv1d, MaskConv2d, PaddingMode"
   ]
  },
  {
   "cell_type": "code",
   "execution_count": null,
   "metadata": {},
   "outputs": [],
   "source": [
    "# parse example config file\n",
    "with open(\"../src/myrtlespeech/configs/deep_speech_2_en.config\") as f:\n",
    "    task_config = text_format.Merge(f.read(), task_config_pb2.TaskConfig())"
   ]
  },
  {
   "cell_type": "code",
   "execution_count": null,
   "metadata": {},
   "outputs": [],
   "source": [
    "# create all components for config\n",
    "seq_to_seq, epochs, train_loader, eval_loader = build(task_config)"
   ]
  },
  {
   "cell_type": "markdown",
   "metadata": {},
   "source": [
    "Define some useful callbacks:"
   ]
  },
  {
   "cell_type": "code",
   "execution_count": null,
   "metadata": {},
   "outputs": [],
   "source": [
    "class Profiler(Callback):\n",
    "    \"\"\"\n",
    "    \n",
    "    nvprof -f --profile-from-start off -o trace.nvvp -- python3 script.py\n",
    "    \n",
    "    \n",
    "    Read using NVIDIA Visual Profiler (nvvp)\n",
    "    \n",
    "    \"\"\"\n",
    "    def on_batch_begin(self, *args, **kwargs):\n",
    "        if not self.training:\n",
    "            return\n",
    "        if not (30 <= kwargs[\"total_train_batches\"] <= 50):\n",
    "            return\n",
    "        self.prof = torch.autograd.profiler.emit_nvtx().__enter__()\n",
    "        torch.cuda.profiler.start()\n",
    "        \n",
    "    def on_batch_end(self, **kwargs):\n",
    "        if not self.training:\n",
    "            return\n",
    "        if not (30 <= kwargs[\"total_train_batches\"] <= 50):\n",
    "            return\n",
    "        torch.cuda.profiler.stop()\n",
    "        self.prof.__exit__(None, None, None)"
   ]
  },
  {
   "cell_type": "code",
   "execution_count": null,
   "metadata": {},
   "outputs": [],
   "source": [
    "from myrtlespeech.run.run import ReportCTCDecoder\n",
    "from myrtlespeech.run.run import Saver\n",
    "from myrtlespeech.run.run import TensorBoardLogger\n",
    "from myrtlespeech.run.run import WordSegmentor"
   ]
  },
  {
   "cell_type": "markdown",
   "metadata": {},
   "source": [
    "Train the model using the fit function:"
   ]
  },
  {
   "cell_type": "code",
   "execution_count": null,
   "metadata": {},
   "outputs": [],
   "source": [
    "seq_to_seq.model"
   ]
  },
  {
   "cell_type": "code",
   "execution_count": null,
   "metadata": {},
   "outputs": [],
   "source": [
    "log_dir = \"/home/samgd/logs/ds2\""
   ]
  },
  {
   "cell_type": "code",
   "execution_count": null,
   "metadata": {},
   "outputs": [],
   "source": [
    "# train the model\n",
    "fit(\n",
    "    seq_to_seq, \n",
    "    1000,#epochs, \n",
    "    train_loader=train_loader, \n",
    "    eval_loader=eval_loader,\n",
    "    callbacks=[\n",
    "        #prof,\n",
    "        ReportMeanBatchLoss(),\n",
    "        ReportCTCDecoder(\n",
    "            seq_to_seq.post_process, \n",
    "            seq_to_seq.alphabet,\n",
    "            WordSegmentor(\" \"),\n",
    "        ),\n",
    "        TensorBoardLogger(seq_to_seq.model, histograms=False),\n",
    "        MixedPrecision(seq_to_seq, opt_level=\"O1\"),\n",
    "        #ClipGradNorm(seq_to_seq, max_norm=400),\n",
    "        #StopEpochAfter(epoch_batches=1),\n",
    "        CSVLogger(f\"{log_dir}/log.csv\", \n",
    "            exclude=[\n",
    "                \"epochs\", \n",
    "                #\"reports/CTCGreedyDecoder/transcripts\",\n",
    "            ]\n",
    "        ),\n",
    "        Saver(log_dir, seq_to_seq),\n",
    "    ],\n",
    ")"
   ]
  },
  {
   "cell_type": "code",
   "execution_count": null,
   "metadata": {},
   "outputs": [],
   "source": []
  },
  {
   "cell_type": "code",
   "execution_count": null,
   "metadata": {},
   "outputs": [],
   "source": []
  }
 ],
 "metadata": {
  "kernelspec": {
   "display_name": "Python 3",
   "language": "python",
   "name": "python3"
  },
  "language_info": {
   "codemirror_mode": {
    "name": "ipython",
    "version": 3
   },
   "file_extension": ".py",
   "mimetype": "text/x-python",
   "name": "python",
   "nbconvert_exporter": "python",
   "pygments_lexer": "ipython3",
   "version": "3.6.8"
  }
 },
 "nbformat": 4,
 "nbformat_minor": 2
}
