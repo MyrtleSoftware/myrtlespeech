{
 "cells": [
  {
   "cell_type": "markdown",
   "metadata": {},
   "source": [
    "# API Development\n",
    "\n",
    "This notebook contains code to run a model using the current API. It exists as a playground for developing the API."
   ]
  },
  {
   "cell_type": "code",
   "execution_count": null,
   "metadata": {},
   "outputs": [],
   "source": [
    "%load_ext autoreload\n",
    "%autoreload 2"
   ]
  },
  {
   "cell_type": "code",
   "execution_count": null,
   "metadata": {},
   "outputs": [],
   "source": [
    "import torch\n",
    "from google.protobuf import text_format\n",
    "\n",
    "from myrtlespeech.run.callback import Callback, ModelCallback\n",
    "from myrtlespeech.post_process.ctc_greedy_decoder import CTCGreedyDecoder\n",
    "from myrtlespeech.post_process.ctc_beam_decoder import CTCBeamDecoder\n",
    "from myrtlespeech.builders.task_config import build\n",
    "from myrtlespeech.run.train import fit\n",
    "from myrtlespeech.protos import task_config_pb2\n",
    "from myrtlespeech.run.stage import Stage"
   ]
  },
  {
   "cell_type": "code",
   "execution_count": null,
   "metadata": {},
   "outputs": [],
   "source": [
    "# parse example config file\n",
    "with open(\"../src/myrtlespeech/configs/2-block-vgg_5-bidir-lstm_ctc.config\") as f:\n",
    "    task_config = text_format.Merge(f.read(), task_config_pb2.TaskConfig())"
   ]
  },
  {
   "cell_type": "code",
   "execution_count": null,
   "metadata": {},
   "outputs": [],
   "source": [
    "# create all components for config\n",
    "model, epochs, optim, train_loader, eval_loader = build(\n",
    "    task_config, \n",
    "    seq_len_support=True\n",
    ")"
   ]
  },
  {
   "cell_type": "code",
   "execution_count": null,
   "metadata": {},
   "outputs": [],
   "source": [
    "class GreedyCTCWER:\n",
    "    def __init__(self):\n",
    "        self.decoder = CTCGreedyDecoder(blank_index=0)\n",
    "        \n",
    "    def __call__(self, **kwargs):\n",
    "        print(f\"training={kwargs['training']}\")\n",
    "        targets = kwargs[\"last_target\"][0]\n",
    "        target_lens = kwargs[\"last_target\"][1]\n",
    "        xs = kwargs[\"last_output\"]\n",
    "        for x, target, target_len in zip(xs, targets, target_lens):\n",
    "            act = \"\".join(model.alphabet.get_symbols(x))\n",
    "            exp = \"\".join(model.alphabet.get_symbols([int(e) for e in target[:target_len]]))\n",
    "            print(f\"{act} ||| {exp}\")\n",
    "            \n",
    "        metrics = kwargs[\"metrics\"][self.__class__.__name__]\n",
    "        if \"wer\" not in metrics:\n",
    "            metrics[\"wer\"] = []\n",
    "        metrics[\"wer\"].append(act)"
   ]
  },
  {
   "cell_type": "code",
   "execution_count": null,
   "metadata": {},
   "outputs": [],
   "source": [
    "class Logger(Callback):\n",
    "    def on_backward_begin(self, **kwargs):\n",
    "        if \"last_loss\" in kwargs and self.training:\n",
    "            print(f\"last_loss: {kwargs['last_loss']}\")\n",
    "                  \n",
    "    def on_batch_end(self, **kwargs):\n",
    "        return {'stop_epoch': True}\n",
    "                  \n",
    "    def on_epoch_end(self, **kwargs):\n",
    "        pass#print(kwargs[\"metrics\"])"
   ]
  },
  {
   "cell_type": "code",
   "execution_count": null,
   "metadata": {},
   "outputs": [],
   "source": [
    "# train the model\n",
    "fit(\n",
    "    model, \n",
    "    epochs, \n",
    "    optim, \n",
    "    train_loader=train_loader, \n",
    "    eval_loader=eval_loader,\n",
    "    callbacks=[Logger()],\n",
    "    metrics=[GreedyCTCWER()]\n",
    ")"
   ]
  }
 ],
 "metadata": {
  "kernelspec": {
   "display_name": "Python 3",
   "language": "python",
   "name": "python3"
  },
  "language_info": {
   "codemirror_mode": {
    "name": "ipython",
    "version": 3
   },
   "file_extension": ".py",
   "mimetype": "text/x-python",
   "name": "python",
   "nbconvert_exporter": "python",
   "pygments_lexer": "ipython3",
   "version": "3.7.3"
  }
 },
 "nbformat": 4,
 "nbformat_minor": 2
}
