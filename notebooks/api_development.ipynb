{
 "cells": [
  {
   "cell_type": "markdown",
   "metadata": {},
   "source": [
    "# API Development\n",
    "\n",
    "This notebook contains code to run a model using the current API. It exists as a playground for developing the API."
   ]
  },
  {
   "cell_type": "code",
   "execution_count": 1,
   "metadata": {},
   "outputs": [],
   "source": [
    "%load_ext autoreload\n",
    "%autoreload 2"
   ]
  },
  {
   "cell_type": "code",
   "execution_count": 2,
   "metadata": {},
   "outputs": [],
   "source": [
    "import torch\n",
    "from google.protobuf import text_format\n",
    "\n",
    "from myrtlespeech.run.callback import Callback, ModelCallback\n",
    "from myrtlespeech.post_process.ctc_greedy_decoder import CTCGreedyDecoder\n",
    "from myrtlespeech.post_process.ctc_beam_decoder import CTCBeamDecoder\n",
    "from myrtlespeech.builders.task_config import build\n",
    "from myrtlespeech.run.train import fit\n",
    "from myrtlespeech.protos import task_config_pb2"
   ]
  },
  {
   "cell_type": "code",
   "execution_count": 3,
   "metadata": {},
   "outputs": [],
   "source": [
    "# parse example config file\n",
    "with open(\"../src/myrtlespeech/configs/2-block-vgg_5-bidir-lstm_ctc.config\") as f:\n",
    "    task_config = text_format.Merge(f.read(), task_config_pb2.TaskConfig())"
   ]
  },
  {
   "cell_type": "code",
   "execution_count": 4,
   "metadata": {},
   "outputs": [],
   "source": [
    "# create all components for config\n",
    "model, epochs, optim, train_loader, eval_loader = build(\n",
    "    task_config, \n",
    "    seq_len_support=True\n",
    ")"
   ]
  },
  {
   "cell_type": "code",
   "execution_count": 5,
   "metadata": {},
   "outputs": [],
   "source": [
    "class Decoder(Callback):\n",
    "    \"\"\"Decode model output using Greedy and Beam approaches.\"\"\"\n",
    "    def __init__(self):\n",
    "        super().__init__()\n",
    "        self.beam = CTCBeamDecoder(\n",
    "            blank_index=0,\n",
    "            beam_width=16\n",
    "        )\n",
    "        self.greedy = CTCGreedyDecoder(blank_index=0)\n",
    "        \n",
    "    def on_loss_begin(self, **kwargs):\n",
    "        out = kwargs['last_output']\n",
    "        if not self.training and kwargs['iteration'] % 10 == 0:\n",
    "            for symbol_indices in self.beam(torch.nn.functional.softmax(out['inputs'], dim=-1), out['input_lengths']):\n",
    "                print(\"\".join(model.alphabet.get_symbols(symbol_indices)))\n",
    "                \n",
    "            for symbol_indices in self.greedy(out['inputs'], out['input_lengths']):\n",
    "                print(\"\".join(model.alphabet.get_symbols(symbol_indices)))\n",
    "                \n",
    "decoder_callback = Decoder()"
   ]
  },
  {
   "cell_type": "code",
   "execution_count": 6,
   "metadata": {},
   "outputs": [],
   "source": [
    "class TestCallback(ModelCallback):\n",
    "    \"\"\"Convert model output to form acceptable to model.loss(**args).\"\"\"\n",
    "    def on_loss_begin(self, **kwargs):\n",
    "        out = kwargs['last_output']\n",
    "        last_output = {\n",
    "            'inputs': out[0],\n",
    "            'input_lengths': out[1]\n",
    "        }\n",
    "        return {'last_output': last_output}\n",
    "\n",
    "    def on_batch_begin(self, **kwargs):\n",
    "        print(f\"training: {self.training},  iteration: {kwargs['iteration']}\")\n",
    "        if \"last_loss\" in kwargs:\n",
    "              print(f\"last_loss: {kwargs['last_loss']}\")\n",
    "\n",
    "    def on_batch_end(self, **kwargs):\n",
    "        if not self.training:\n",
    "            return {'stop_epoch': True}\n",
    "    \n",
    "callback = TestCallback(model)"
   ]
  },
  {
   "cell_type": "code",
   "execution_count": null,
   "metadata": {},
   "outputs": [],
   "source": [
    "# train the model\n",
    "fit(\n",
    "    model, \n",
    "    epochs, \n",
    "    optim, \n",
    "    train_loader=train_loader, \n",
    "    eval_loader=eval_loader,\n",
    "    callbacks=[callback, decoder_callback]\n",
    ")"
   ]
  }
 ],
 "metadata": {
  "kernelspec": {
   "display_name": "Python 3",
   "language": "python",
   "name": "python3"
  },
  "language_info": {
   "codemirror_mode": {
    "name": "ipython",
    "version": 3
   },
   "file_extension": ".py",
   "mimetype": "text/x-python",
   "name": "python",
   "nbconvert_exporter": "python",
   "pygments_lexer": "ipython3",
   "version": "3.7.3"
  }
 },
 "nbformat": 4,
 "nbformat_minor": 2
}
