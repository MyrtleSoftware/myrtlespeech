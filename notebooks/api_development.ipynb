{
 "cells": [
  {
   "cell_type": "markdown",
   "metadata": {},
   "source": [
    "# API Development\n",
    "\n",
    "This notebook contains code to run a model using the current API. It exists as a playground for developing the API."
   ]
  },
  {
   "cell_type": "code",
   "execution_count": null,
   "metadata": {},
   "outputs": [],
   "source": [
    "%load_ext autoreload\n",
    "%autoreload 2"
   ]
  },
  {
   "cell_type": "code",
   "execution_count": null,
   "metadata": {},
   "outputs": [],
   "source": [
    "import pathlib\n",
    "import typing\n",
    "\n",
    "import torch\n",
    "from google.protobuf import text_format\n",
    "\n",
    "from myrtlespeech.model.speech_to_text import SpeechToText\n",
    "from myrtlespeech.run.callbacks.csv_logger import CSVLogger\n",
    "from myrtlespeech.run.callbacks.callback import Callback, ModelCallback\n",
    "from myrtlespeech.run.callbacks.report_mean_batch_loss import ReportMeanBatchLoss\n",
    "from myrtlespeech.run.callbacks.stop_epoch_after import StopEpochAfter\n",
    "from myrtlespeech.post_process.utils import levenshtein\n",
    "from myrtlespeech.post_process.ctc_greedy_decoder import CTCGreedyDecoder\n",
    "from myrtlespeech.post_process.ctc_beam_decoder import CTCBeamDecoder\n",
    "from myrtlespeech.builders.task_config import build\n",
    "from myrtlespeech.run.train import fit\n",
    "from myrtlespeech.protos import task_config_pb2\n",
    "from myrtlespeech.run.stage import Stage"
   ]
  },
  {
   "cell_type": "code",
   "execution_count": null,
   "metadata": {},
   "outputs": [],
   "source": [
    "# parse example config file\n",
    "with open(\"../src/myrtlespeech/configs/2-block-vgg_5-bidir-lstm_ctc.config\") as f:\n",
    "    task_config = text_format.Merge(f.read(), task_config_pb2.TaskConfig())"
   ]
  },
  {
   "cell_type": "code",
   "execution_count": null,
   "metadata": {},
   "outputs": [],
   "source": [
    "# create all components for config\n",
    "model, epochs, optim, train_loader, eval_loader = build(\n",
    "    task_config\n",
    ")"
   ]
  },
  {
   "cell_type": "code",
   "execution_count": null,
   "metadata": {},
   "outputs": [],
   "source": [
    "ctc_greedy = CTCGreedyDecoder(blank_index=0)\n",
    "ctc_beam = CTCBeamDecoder(blank_index=0, beam_width=12)\n",
    "\n",
    "class ReportCTCDecoderWER(Callback):\n",
    "    def __init__(self, ctc_decoder, separator_index=None):\n",
    "        super().__init__(model)\n",
    "        self.ctc_decoder = ctc_decoder\n",
    "        self.separator_index = separator_index\n",
    "        \n",
    "    def _reset(self, **kwargs):\n",
    "        kwargs[\"reports\"][self.ctc_decoder.__class__.__name__] = {\"wer\": 100.0}\n",
    "        self.distances = []\n",
    "        self.lengths = []\n",
    "        \n",
    "    def on_train_begin(self, **kwargs):\n",
    "        self._reset(**kwargs)\n",
    "        \n",
    "    def on_epoch_begin(self, **kwargs):\n",
    "        self._reset(**kwargs)\n",
    "        \n",
    "    def on_batch_end(self, **kwargs):\n",
    "        targets = kwargs[\"last_target\"][0]\n",
    "        target_lens = kwargs[\"last_target\"][1]\n",
    "\n",
    "        acts = self.ctc_decoder(*kwargs[\"last_output\"])\n",
    "        for act, target, target_len in zip(acts, targets, target_lens):\n",
    "            exp = [int(e) for e in target[:target_len]]\n",
    "            if self.separator_index is not None:\n",
    "                act = word_chunk(act, self.separator_index)\n",
    "                exp = word_chunk(exp, self.separator_index)\n",
    "            distance = levenshtein(act, exp)\n",
    "            self.distances.append(distance)\n",
    "            self.lengths.append(len(exp))\n",
    "              \n",
    "    def on_epoch_end(self, **kwargs):\n",
    "        wer = float(sum(self.distances)) / sum(self.lengths) * 100\n",
    "        kwargs[\"reports\"][self.ctc_decoder.__class__.__name__][\"wer\"] = wer\n",
    "        \n",
    "def word_chunk(seq, sep_idx): \n",
    "    import itertools\n",
    "    return [list(group) for k, group in itertools.groupby(seq, key=lambda x: x == sep_idx) if not k]"
   ]
  },
  {
   "cell_type": "code",
   "execution_count": null,
   "metadata": {},
   "outputs": [],
   "source": [
    "# train the model\n",
    "fit(\n",
    "    model, \n",
    "    10000,#epochs, \n",
    "    optim, \n",
    "    train_loader=train_loader, \n",
    "    eval_loader=eval_loader,\n",
    "    callbacks=[\n",
    "        ReportMeanBatchLoss(),\n",
    "        ReportCTCDecoderWER(ctc_greedy, model.alphabet.get_index(\" \")),\n",
    "        #ReportCTCDecoderWER(model, ctc_beam), \n",
    "        StopEpochAfter(epoch_batches=1),\n",
    "        CSVLogger(\"/tmp/foo.csv\", exclude=[\"epochs\"])\n",
    "    ],\n",
    ")"
   ]
  },
  {
   "cell_type": "code",
   "execution_count": null,
   "metadata": {},
   "outputs": [],
   "source": []
  },
  {
   "cell_type": "code",
   "execution_count": null,
   "metadata": {},
   "outputs": [],
   "source": [
    "\n",
    "\n",
    "\n",
    "\n",
    "\n",
    "\n",
    "\n",
    "\n",
    "\n",
    "\n",
    "\n",
    "\n",
    "\n",
    "\n",
    "\n",
    "\n",
    "\n",
    "\n",
    "\n",
    "\n"
   ]
  },
  {
   "cell_type": "code",
   "execution_count": null,
   "metadata": {},
   "outputs": [],
   "source": []
  }
 ],
 "metadata": {
  "kernelspec": {
   "display_name": "Python 3",
   "language": "python",
   "name": "python3"
  },
  "language_info": {
   "codemirror_mode": {
    "name": "ipython",
    "version": 3
   },
   "file_extension": ".py",
   "mimetype": "text/x-python",
   "name": "python",
   "nbconvert_exporter": "python",
   "pygments_lexer": "ipython3",
   "version": "3.7.3"
  }
 },
 "nbformat": 4,
 "nbformat_minor": 2
}
