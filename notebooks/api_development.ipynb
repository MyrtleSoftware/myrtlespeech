{
 "cells": [
  {
   "cell_type": "markdown",
   "metadata": {},
   "source": [
    "# API Development\n",
    "\n",
    "This notebook contains code to run a model using the current API. It exists as a playground for developing the API."
   ]
  },
  {
   "cell_type": "code",
   "execution_count": null,
   "metadata": {},
   "outputs": [],
   "source": [
    "%load_ext autoreload\n",
    "%autoreload 2"
   ]
  },
  {
   "cell_type": "code",
   "execution_count": null,
   "metadata": {},
   "outputs": [],
   "source": [
    "import pathlib\n",
    "import typing\n",
    "\n",
    "import torch\n",
    "from google.protobuf import text_format\n",
    "\n",
    "from myrtlespeech.model.speech_to_text import SpeechToText\n",
    "from myrtlespeech.run.callbacks.csv_logger import CSVLogger\n",
    "from myrtlespeech.run.callbacks.callback import Callback, ModelCallback\n",
    "from myrtlespeech.run.callbacks.report_mean_batch_loss import ReportMeanBatchLoss\n",
    "from myrtlespeech.run.callbacks.stop_epoch_after import StopEpochAfter\n",
    "from myrtlespeech.run.callbacks.mixed_precision import MixedPrecision\n",
    "from myrtlespeech.post_process.utils import levenshtein\n",
    "from myrtlespeech.post_process.ctc_greedy_decoder import CTCGreedyDecoder\n",
    "from myrtlespeech.post_process.ctc_beam_decoder import CTCBeamDecoder\n",
    "from myrtlespeech.builders.task_config import build\n",
    "from myrtlespeech.run.train import fit\n",
    "from myrtlespeech.protos import task_config_pb2\n",
    "from myrtlespeech.run.stage import Stage"
   ]
  },
  {
   "cell_type": "code",
   "execution_count": null,
   "metadata": {},
   "outputs": [],
   "source": [
    "torch.backends.cudnn.benchmark = True"
   ]
  },
  {
   "cell_type": "code",
   "execution_count": null,
   "metadata": {},
   "outputs": [],
   "source": [
    "# parse example config file\n",
    "with open(\"../src/myrtlespeech/configs/2-block-vgg_5-bidir-lstm_ctc.config\") as f:\n",
    "    task_config = text_format.Merge(f.read(), task_config_pb2.TaskConfig())"
   ]
  },
  {
   "cell_type": "code",
   "execution_count": null,
   "metadata": {},
   "outputs": [],
   "source": [
    "# create all components for config\n",
    "seq_to_seq, epochs, train_loader, eval_loader = build(task_config)"
   ]
  },
  {
   "cell_type": "code",
   "execution_count": null,
   "metadata": {},
   "outputs": [],
   "source": [
    "from typing import List\n",
    "\n",
    "class WordSegmentor:\n",
    "    def __init__(self, separator: str):\n",
    "        self.separator = separator\n",
    "        \n",
    "    def __call__(self, sentence: List[str]) -> List[str]:\n",
    "        new_sentence = []\n",
    "        word = []\n",
    "        for symb in sentence:\n",
    "            if symb == self.separator:\n",
    "                if word:\n",
    "                    new_sentence.append(\"\".join(word))\n",
    "                    word = []\n",
    "            else:\n",
    "                word.append(symb)\n",
    "        if word:\n",
    "            new_sentence.append(\"\".join(word))\n",
    "        return new_sentence"
   ]
  },
  {
   "cell_type": "code",
   "execution_count": null,
   "metadata": {},
   "outputs": [],
   "source": [
    "ctc_greedy = CTCGreedyDecoder(blank_index=0)\n",
    "ctc_beam = CTCBeamDecoder(blank_index=0, beam_width=12)\n",
    "\n",
    "class ReportCTCDecoder(Callback):\n",
    "    \"\"\"TODO\n",
    "    \n",
    "    Args:\n",
    "        ctc_decoder: decodes output to sequence of indices based on CTC\n",
    "        \n",
    "        alphabet: converts sequences of indices to sequences of symbols (strs)\n",
    "        \n",
    "        word_segmentor: groups sequences of symbols into sequences of words\n",
    "    \"\"\"\n",
    "    def __init__(self, ctc_decoder, alphabet, word_segmentor):\n",
    "        self.ctc_decoder = ctc_decoder\n",
    "        self.alphabet = alphabet\n",
    "        self.word_segmentor = word_segmentor\n",
    "        \n",
    "    def _reset(self, **kwargs):\n",
    "        kwargs[\"reports\"][self.ctc_decoder.__class__.__name__] = {\n",
    "            \"wer\": -1.0,\n",
    "            \"transcripts\": []\n",
    "        }\n",
    "        self.distances = []\n",
    "        self.lengths = []\n",
    "        \n",
    "    def on_train_begin(self, **kwargs):\n",
    "        self._reset(**kwargs)\n",
    "        \n",
    "    def on_epoch_begin(self, **kwargs):\n",
    "        self._reset(**kwargs)\n",
    "        \n",
    "    def _process(self, sentence: List[int]) -> List[str]:\n",
    "        symbols = self.alphabet.get_symbols(sentence)\n",
    "        return self.word_segmentor(symbols)\n",
    "        \n",
    "    def on_batch_end(self, **kwargs):\n",
    "        if self.training:\n",
    "            return\n",
    "        transcripts = kwargs[\"reports\"][self.ctc_decoder.__class__.__name__][\"transcripts\"]\n",
    "        \n",
    "        targets = kwargs[\"last_target\"][0]\n",
    "        target_lens = kwargs[\"last_target\"][1]\n",
    "\n",
    "        acts = self.ctc_decoder(*kwargs[\"last_output\"])\n",
    "        for act, target, target_len in zip(acts, targets, target_lens):\n",
    "            act = self._process(act)\n",
    "            exp = self._process([int(e) for e in target[:target_len]])\n",
    "            \n",
    "            transcripts.append((act, exp))\n",
    "            \n",
    "            distance = levenshtein(act, exp)\n",
    "            self.distances.append(distance)\n",
    "            self.lengths.append(len(exp))\n",
    "              \n",
    "    def on_epoch_end(self, **kwargs):\n",
    "        if self.training:\n",
    "            return\n",
    "        wer = float(sum(self.distances)) / sum(self.lengths) * 100\n",
    "        kwargs[\"reports\"][self.ctc_decoder.__class__.__name__][\"wer\"] = wer"
   ]
  },
  {
   "cell_type": "code",
   "execution_count": null,
   "metadata": {},
   "outputs": [],
   "source": [
    "# train the model\n",
    "fit(\n",
    "    seq_to_seq, \n",
    "    10000,#epochs, \n",
    "    train_loader=train_loader, \n",
    "    eval_loader=eval_loader,\n",
    "    callbacks=[\n",
    "        ReportMeanBatchLoss(),\n",
    "        ReportCTCDecoder(\n",
    "            ctc_greedy, \n",
    "            seq_to_seq.alphabet,\n",
    "            WordSegmentor(\" \"),\n",
    "        ),\n",
    "        MixedPrecision(seq_to_seq, opt_level=\"O1\"),\n",
    "        #StopEpochAfter(epoch_batches=1),\n",
    "        CSVLogger(\"/tmp/foo.csv\", \n",
    "            exclude=[\n",
    "                \"epochs\", \n",
    "                #\"reports/CTCGreedyDecoder/transcripts\",\n",
    "            ]\n",
    "        )\n",
    "    ],\n",
    ")"
   ]
  },
  {
   "cell_type": "code",
   "execution_count": null,
   "metadata": {},
   "outputs": [],
   "source": []
  },
  {
   "cell_type": "code",
   "execution_count": null,
   "metadata": {},
   "outputs": [],
   "source": [
    "\n",
    "\n",
    "\n",
    "\n",
    "\n",
    "\n",
    "\n",
    "\n",
    "\n",
    "\n",
    "\n",
    "\n",
    "\n",
    "\n",
    "\n",
    "\n",
    "\n",
    "\n",
    "\n",
    "\n"
   ]
  },
  {
   "cell_type": "code",
   "execution_count": null,
   "metadata": {},
   "outputs": [],
   "source": []
  }
 ],
 "metadata": {
  "kernelspec": {
   "display_name": "Python 3",
   "language": "python",
   "name": "python3"
  },
  "language_info": {
   "codemirror_mode": {
    "name": "ipython",
    "version": 3
   },
   "file_extension": ".py",
   "mimetype": "text/x-python",
   "name": "python",
   "nbconvert_exporter": "python",
   "pygments_lexer": "ipython3",
   "version": "3.7.3"
  }
 },
 "nbformat": 4,
 "nbformat_minor": 2
}
