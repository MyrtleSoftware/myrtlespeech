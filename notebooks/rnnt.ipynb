{
 "cells": [
  {
   "cell_type": "markdown",
   "metadata": {},
   "source": [
    "# API Development\n",
    "\n",
    "This notebook exists to develop the API in before moving the code to well-tested, documented Python files and any new stable models to Protobuf configurations.\n",
    "\n",
    "Currently being used to bring-up the RNNT model."
   ]
  },
  {
   "cell_type": "code",
   "execution_count": null,
   "metadata": {},
   "outputs": [],
   "source": [
    "%load_ext autoreload\n",
    "%autoreload 2"
   ]
  },
  {
   "cell_type": "code",
   "execution_count": null,
   "metadata": {},
   "outputs": [],
   "source": [
    "import os\n",
    "import pathlib\n",
    "import typing\n",
    "\n",
    "import torch\n",
    "from google.protobuf import text_format\n",
    "\n",
    "from myrtlespeech.model.rnnt import RNNTEncoder, RNNT\n",
    "from myrtlespeech.run.callbacks.csv_logger import CSVLogger\n",
    "from myrtlespeech.run.callbacks.callback import Callback, ModelCallback\n",
    "from myrtlespeech.run.callbacks.clip_grad_norm import ClipGradNorm\n",
    "from myrtlespeech.run.callbacks.report_mean_batch_loss import ReportMeanBatchLoss\n",
    "from myrtlespeech.run.callbacks.stop_epoch_after import StopEpochAfter\n",
    "from myrtlespeech.run.callbacks.mixed_precision import MixedPrecision\n",
    "from myrtlespeech.post_process.utils import levenshtein\n",
    "from myrtlespeech.builders.task_config import build\n",
    "from myrtlespeech.run.train import fit\n",
    "from myrtlespeech.protos import task_config_pb2\n",
    "from myrtlespeech.run.stage import Stage"
   ]
  },
  {
   "cell_type": "code",
   "execution_count": null,
   "metadata": {},
   "outputs": [],
   "source": [
    "torch.backends.cudnn.benchmark = False"
   ]
  },
  {
   "cell_type": "markdown",
   "metadata": {},
   "source": [
    "Build the RNNT model defined in the config file:"
   ]
  },
  {
   "cell_type": "code",
   "execution_count": null,
   "metadata": {},
   "outputs": [],
   "source": [
    "# parse example config file\n",
    "with open(\"../src/myrtlespeech/configs/rnnt_en.config\") as f:\n",
    "    task_config = text_format.Merge(f.read(), task_config_pb2.TaskConfig())\n",
    "\n",
    "task_config"
   ]
  },
  {
   "cell_type": "code",
   "execution_count": null,
   "metadata": {},
   "outputs": [],
   "source": [
    "# create all components for config\n",
    "seq_to_seq, epochs, train_loader, eval_loader = build(task_config)\n"
   ]
  },
  {
   "cell_type": "code",
   "execution_count": null,
   "metadata": {},
   "outputs": [],
   "source": [
    "import math\n",
    "from typing import Tuple\n",
    "\n",
    "from myrtlespeech.builders.fully_connected import build as build_fully_connected\n",
    "from myrtlespeech.builders.rnn import build as build_rnn\n",
    "from myrtlespeech.protos import rnn_t_pb2\n",
    "from myrtlespeech.protos import rnn_t_encoder_pb2\n",
    "from myrtlespeech.data.stack import StackTime\n",
    "from myrtlespeech.model.utils import Lambda\n",
    "from torch import nn\n",
    "\n",
    "\"\"\"\n",
    "\n",
    "oneof time_reduction {\n",
    "bool time_reduction_NULL = 2;\n",
    "uint32 time_reduction_factor = 3;\n",
    "}\n",
    "  \n",
    "  \n",
    "  \"\"\"\n",
    "\n",
    "\n",
    "\n",
    "# rnn_t {\n",
    "#     rnn_t_encoder {\n",
    "#       rnn1 {\n",
    "#         rnn_type: LSTM;\n",
    "#         hidden_size: 640;\n",
    "#         num_layers: 3;\n",
    "#         bias: true;\n",
    "#         bidirectional: false;\n",
    "#       }\n",
    "# }\n",
    "    \n",
    "def build_rnn_t(\n",
    "    rnn_t_cfg: rnn_t_pb2.RNNT,\n",
    "    input_features: int,\n",
    "    vocab_size: int\n",
    ") -> RNNT:\n",
    "    \"\"\"\n",
    "    \n",
    "    \"\"\"\n",
    "    encoder, encoder_out = build_rnnt_enc(rnn_t_cfg.rnn_t_encoder, input_features)\n",
    "    \n",
    "    ##decoder/prediction network\n",
    "    #can get embedding dims from the rnnt\n",
    "    embedding = nn.Embedding(vocab_size, rnn_t_cfg.dec_rnn.hidden_size)\n",
    "    dec_rnn, prediction_out = build_rnn(\n",
    "            rnn_t_cfg.dec_rnn,\n",
    "            vocab_size\n",
    "        )\n",
    "    \n",
    "    ##joint \n",
    "    fc_in_dim = encoder_out + prediction_out #features are concatenated\n",
    "    \n",
    "    fully_connected = build_fully_connected(\n",
    "        rnn_t_cfg.fully_connected,\n",
    "        input_features=fc_in_dim,\n",
    "        output_features=vocab_size + 1,\n",
    "    )\n",
    "    \n",
    "    return RNNT(encoder, embedding, dec_rnn, fully_connected)\n",
    "    \n",
    "\n",
    "def build_rnnt_enc(\n",
    "    rnn_t_enc: rnn_t_encoder_pb2.RNNTEncoder, \n",
    "    input_features: int,\n",
    ") -> Tuple[RNNTEncoder, int]:\n",
    "    \"\"\"\n",
    "    \n",
    "    \n",
    "    \"\"\"\n",
    "    rnn1, rnn1_out_features = build_rnn(\n",
    "            rnn_t_enc.rnn1,\n",
    "            input_features\n",
    "        )\n",
    "    \n",
    "    \n",
    "    \n",
    "    if rnn_t_enc.time_reduction_factor == 0: #default value (i.e. not set)\n",
    "        assert rnn_t_enc.HasField('rnn2') is False\n",
    "        encoder = RNNTEncoder(rnn1)\n",
    "        \n",
    "        encoder_out_features = rnn1_out_features\n",
    "    else:\n",
    "        time_reduction_factor = rnn_t_enc.time_reduction_factor\n",
    "        \n",
    "        assert time_reduction_factor > 1, \"time_reduction_factor must be an integer > 1 but is = {time_reduction_factor}\"\n",
    "        \n",
    "        \n",
    "        reduction = rnn_t_enc.time_reduction_factor\n",
    "        \n",
    "        time_reducer = Lambda(StackTime(reduction))\n",
    "        \n",
    "        rnnt_input_features = rnn1_out_features * reduction\n",
    "        \n",
    "        rnn2, encoder_out_features = build_rnn(\n",
    "            rnn_t_enc.rnn2,\n",
    "            rnnt_input_features\n",
    "        )\n",
    "        encoder = RNNTEncoder(rnn1, time_reducer, reduction, rnn2)\n",
    "        \n",
    "    \n",
    "    return encoder, encoder_out_features\n",
    "\n",
    "\n",
    "stt = task_config.speech_to_text\n",
    "encoder = build_rnnt_enc(stt.rnn_t.rnn_t_encoder, 16)\n",
    "\n",
    "encoder\n",
    "\n",
    "rnnt = build_rnn_t(stt.rnn_t, 80, 28)\n",
    "\n",
    "rnnt"
   ]
  },
  {
   "cell_type": "code",
   "execution_count": null,
   "metadata": {},
   "outputs": [],
   "source": [
    "\n",
    "from myrtlespeech.model.seq_len_wrapper import SeqLenWrapper\n",
    "from myrtlespeech.model.utils import Lambda\n",
    "from myrtlespeech.protos import conv_layer_pb2\n",
    "from myrtlespeech.protos import rnn_t_pb2\n",
    "\n",
    "#params required for whole RNNT:\n",
    "hidden_size = 640 #rnn hidden size\n",
    "projection_size = 640 #LSTM projection size\n",
    "num_enc_layers = 8 #Number of layers in the encoder\n",
    "num_pred_layers = 2 #Number of layers in the prediction network\n",
    "input_features = 80 * 4\n",
    "vocab_size = 28\n",
    "\n",
    "# #hierachy is:\n",
    "# build_rnnt\n",
    "#     #should check that dims match up\n",
    "#     build_rnnt_enc\n",
    "#     build_rnnt_pred\n",
    "#     build_rnnt_joint\n",
    "\n"
   ]
  },
  {
   "cell_type": "code",
   "execution_count": null,
   "metadata": {},
   "outputs": [],
   "source": [
    "rnn = torch.nn.LSTM(2, 4)\n",
    "rnn.batch_first"
   ]
  },
  {
   "cell_type": "code",
   "execution_count": null,
   "metadata": {},
   "outputs": [],
   "source": [
    "ds2 = build_ds2(\n",
    "    ds2_cfg=task_config.speech_to_text.deep_speech_2,\n",
    "    input_features=83,\n",
    "    output_features=len(list(\"_abcdefghijklmnopqrstuvwxyz '\")),\n",
    "    input_channels=1\n",
    ") "
   ]
  },
  {
   "cell_type": "code",
   "execution_count": null,
   "metadata": {},
   "outputs": [],
   "source": [
    "ds2"
   ]
  },
  {
   "cell_type": "markdown",
   "metadata": {},
   "source": [
    "Now build all the other components using the generic build function and monkey-patch in the DS2 model:"
   ]
  },
  {
   "cell_type": "code",
   "execution_count": null,
   "metadata": {},
   "outputs": [],
   "source": [
    "# parse example config file\n",
    "with open(\"../src/myrtlespeech/configs/deep_speech_2_en.config\") as f:\n",
    "    task_config = text_format.Merge(f.read(), task_config_pb2.TaskConfig())"
   ]
  },
  {
   "cell_type": "code",
   "execution_count": null,
   "metadata": {},
   "outputs": [],
   "source": [
    "# create all components for config\n",
    "seq_to_seq, epochs, train_loader, eval_loader = build(task_config)"
   ]
  },
  {
   "cell_type": "code",
   "execution_count": null,
   "metadata": {},
   "outputs": [],
   "source": [
    "seq_to_seq.model = ds2.cuda()"
   ]
  },
  {
   "cell_type": "code",
   "execution_count": null,
   "metadata": {},
   "outputs": [],
   "source": [
    "seq_to_seq.optim = torch.optim.Adam(\n",
    "    params = ds2.parameters(),\n",
    "    lr=0.001\n",
    ")"
   ]
  },
  {
   "cell_type": "markdown",
   "metadata": {},
   "source": [
    "Define some useful callbacks:"
   ]
  },
  {
   "cell_type": "code",
   "execution_count": null,
   "metadata": {},
   "outputs": [],
   "source": [
    "from typing import List\n",
    "\n",
    "class WordSegmentor:\n",
    "    def __init__(self, separator: str):\n",
    "        self.separator = separator\n",
    "        \n",
    "    def __call__(self, sentence: List[str]) -> List[str]:\n",
    "        new_sentence = []\n",
    "        word = []\n",
    "        for symb in sentence:\n",
    "            if symb == self.separator:\n",
    "                if word:\n",
    "                    new_sentence.append(\"\".join(word))\n",
    "                    word = []\n",
    "            else:\n",
    "                word.append(symb)\n",
    "        if word:\n",
    "            new_sentence.append(\"\".join(word))\n",
    "        return new_sentence"
   ]
  },
  {
   "cell_type": "code",
   "execution_count": null,
   "metadata": {},
   "outputs": [],
   "source": [
    "ctc_greedy = CTCGreedyDecoder(blank_index=0)\n",
    "ctc_beam = CTCBeamDecoder(blank_index=0, beam_width=12)\n",
    "\n",
    "class ReportCTCDecoder(Callback):\n",
    "    \"\"\"TODO\n",
    "    \n",
    "    Args:\n",
    "        ctc_decoder: decodes output to sequence of indices based on CTC\n",
    "        \n",
    "        alphabet: converts sequences of indices to sequences of symbols (strs)\n",
    "        \n",
    "        word_segmentor: groups sequences of symbols into sequences of words\n",
    "    \"\"\"\n",
    "    def __init__(self, ctc_decoder, alphabet, word_segmentor):\n",
    "        self.ctc_decoder = ctc_decoder\n",
    "        self.alphabet = alphabet\n",
    "        self.word_segmentor = word_segmentor\n",
    "        \n",
    "    def _reset(self, **kwargs):\n",
    "        kwargs[\"reports\"][self.ctc_decoder.__class__.__name__] = {\n",
    "            \"wer\": -1.0,\n",
    "            \"transcripts\": []\n",
    "        }\n",
    "        self.distances = []\n",
    "        self.lengths = []\n",
    "        \n",
    "    def on_train_begin(self, **kwargs):\n",
    "        self._reset(**kwargs)\n",
    "        \n",
    "    def on_epoch_begin(self, **kwargs):\n",
    "        self._reset(**kwargs)\n",
    "        \n",
    "    def _process(self, sentence: List[int]) -> List[str]:\n",
    "        symbols = self.alphabet.get_symbols(sentence)\n",
    "        return self.word_segmentor(symbols)\n",
    "        \n",
    "    def on_batch_end(self, **kwargs):\n",
    "        if self.training:\n",
    "            return\n",
    "        transcripts = kwargs[\"reports\"][self.ctc_decoder.__class__.__name__][\"transcripts\"]\n",
    "        \n",
    "        targets = kwargs[\"last_target\"][0]\n",
    "        target_lens = kwargs[\"last_target\"][1]\n",
    "\n",
    "        acts = self.ctc_decoder(*kwargs[\"last_output\"])\n",
    "        for act, target, target_len in zip(acts, targets, target_lens):\n",
    "            act = self._process(act)\n",
    "            exp = self._process([int(e) for e in target[:target_len]])\n",
    "            \n",
    "            transcripts.append((act, exp))\n",
    "            \n",
    "            distance = levenshtein(act, exp)\n",
    "            self.distances.append(distance)\n",
    "            self.lengths.append(len(exp))\n",
    "              \n",
    "    def on_epoch_end(self, **kwargs):\n",
    "        if self.training:\n",
    "            return\n",
    "        wer = float(sum(self.distances)) / sum(self.lengths) * 100\n",
    "        kwargs[\"reports\"][self.ctc_decoder.__class__.__name__][\"wer\"] = wer"
   ]
  },
  {
   "cell_type": "code",
   "execution_count": null,
   "metadata": {},
   "outputs": [],
   "source": [
    "class Foo(Callback):\n",
    "    def on_epoch_end(self, **kwargs):\n",
    "        from IPython.display import clear_output\n",
    "        clear_output()\n",
    "        for act, exp in kwargs[\"reports\"][\"CTCGreedyDecoder\"][\"transcripts\"]:\n",
    "            print(act, exp)\n",
    "        print('\\n\\n\\n')"
   ]
  },
  {
   "cell_type": "code",
   "execution_count": null,
   "metadata": {},
   "outputs": [],
   "source": [
    "import time\n",
    "\n",
    "from torch.utils.tensorboard import SummaryWriter\n",
    "\n",
    "class TensorBoardLogger(ModelCallback):\n",
    "    def __init__(self, model, histograms=False):\n",
    "        super().__init__(model)\n",
    "        self.writer = SummaryWriter(\n",
    "            log_dir=f'/tmp/writer/{time.time()}',\n",
    "        )\n",
    "        self.histograms = histograms\n",
    "        \n",
    "    def on_backward_begin(self, **kwargs):\n",
    "        if not self.training:\n",
    "            return\n",
    "        stage = \"train\" if self.training else \"eval\"\n",
    "        self.writer.add_scalar(\n",
    "            f\"{stage}/loss\", \n",
    "            kwargs[\"last_loss\"].item(),\n",
    "            global_step=kwargs[\"total_train_batches\"]\n",
    "        )\n",
    "        \n",
    "    def on_step_end(self, **kwargs):\n",
    "        if not self.training or not self.histograms:\n",
    "            return\n",
    "        for name, param in self.model.named_parameters():\n",
    "            if param.grad is None:\n",
    "                continue\n",
    "            self.writer.add_histogram(\n",
    "                name.replace(\".\", \"/\") + \"/grad\", \n",
    "                param.grad,\n",
    "                global_step=kwargs[\"total_train_batches\"]\n",
    "            )\n",
    "        \n",
    "    def on_batch_end(self, **kwargs):\n",
    "        if not self.training or not self.histograms:\n",
    "            return\n",
    "        for name, param in self.model.named_parameters():\n",
    "            self.writer.add_histogram(\n",
    "                name.replace(\".\", \"/\"), \n",
    "                param,\n",
    "                global_step=kwargs[\"total_train_batches\"]\n",
    "            )\n",
    "        \n",
    "    def on_train_end(self, **kwargs):\n",
    "        self.writer.close()"
   ]
  },
  {
   "cell_type": "markdown",
   "metadata": {},
   "source": [
    "Compute an estimate of the mean (TODO: improve interface!):"
   ]
  },
  {
   "cell_type": "code",
   "execution_count": null,
   "metadata": {},
   "outputs": [],
   "source": [
    "standardize = seq_to_seq.pre_process_steps[2][0]\n",
    "\n",
    "for idx, x in enumerate(train_loader.dataset):\n",
    "    if idx > 10000:\n",
    "        break\n",
    "    seq_to_seq.pre_process(x[0][0])\n",
    "\n",
    "standardize.training = False"
   ]
  },
  {
   "cell_type": "markdown",
   "metadata": {},
   "source": [
    "Train the model using the fit function:"
   ]
  },
  {
   "cell_type": "code",
   "execution_count": null,
   "metadata": {},
   "outputs": [],
   "source": [
    "# train the model\n",
    "fit(\n",
    "    seq_to_seq, \n",
    "    1000,#epochs, \n",
    "    train_loader=train_loader, \n",
    "    eval_loader=eval_loader,\n",
    "    callbacks=[\n",
    "        ReportMeanBatchLoss(),\n",
    "        ReportCTCDecoder(\n",
    "            ctc_greedy, \n",
    "            seq_to_seq.alphabet,\n",
    "            WordSegmentor(\" \"),\n",
    "        ),\n",
    "        TensorBoardLogger(seq_to_seq.model, histograms=False),\n",
    "        MixedPrecision(seq_to_seq, opt_level=\"O1\"),\n",
    "        ClipGradNorm(seq_to_seq, max_norm=400),\n",
    "        #StopEpochAfter(epoch_batches=30),\n",
    "        CSVLogger(\"/tmp/foo_0.csv\", \n",
    "            exclude=[\n",
    "                \"epochs\", \n",
    "                #\"reports/CTCGreedyDecoder/transcripts\",\n",
    "            ]\n",
    "        )\n",
    "    ],\n",
    ")"
   ]
  },
  {
   "cell_type": "code",
   "execution_count": null,
   "metadata": {},
   "outputs": [],
   "source": []
  }
 ],
 "metadata": {
  "kernelspec": {
   "display_name": "Python 3",
   "language": "python",
   "name": "python3"
  },
  "language_info": {
   "codemirror_mode": {
    "name": "ipython",
    "version": 3
   },
   "file_extension": ".py",
   "mimetype": "text/x-python",
   "name": "python",
   "nbconvert_exporter": "python",
   "pygments_lexer": "ipython3",
   "version": "3.7.3"
  }
 },
 "nbformat": 4,
 "nbformat_minor": 2
}
