{
 "cells": [
  {
   "cell_type": "markdown",
   "metadata": {},
   "source": [
    "# RNN-T Load weights\n"
   ]
  },
  {
   "cell_type": "code",
   "execution_count": null,
   "metadata": {},
   "outputs": [],
   "source": [
    "log_dir = \"/home/julian/exp/speech/myrtlespeech/rnnt/debug/2/\""
   ]
  },
  {
   "cell_type": "code",
   "execution_count": null,
   "metadata": {},
   "outputs": [],
   "source": [
    "%load_ext autoreload\n",
    "%autoreload 2"
   ]
  },
  {
   "cell_type": "code",
   "execution_count": null,
   "metadata": {},
   "outputs": [],
   "source": [
    "import os\n",
    "import pathlib\n",
    "import typing\n",
    "\n",
    "import torch\n",
    "from google.protobuf import text_format\n",
    "\n",
    "from myrtlespeech.model.rnn_t import RNNTEncoder, RNNT\n",
    "from myrtlespeech.run.callbacks.csv_logger import CSVLogger\n",
    "from myrtlespeech.run.callbacks.callback import Callback, ModelCallback\n",
    "from myrtlespeech.run.callbacks.clip_grad_norm import ClipGradNorm\n",
    "from myrtlespeech.run.callbacks.report_mean_batch_loss import ReportMeanBatchLoss\n",
    "from myrtlespeech.run.callbacks.stop_epoch_after import StopEpochAfter\n",
    "from myrtlespeech.run.callbacks.mixed_precision import MixedPrecision\n",
    "from myrtlespeech.builders.task_config import build\n",
    "from myrtlespeech.run.train import fit\n",
    "from myrtlespeech.protos import task_config_pb2\n",
    "from myrtlespeech.run.callbacks.rnn_t_training import RNNTTraining\n",
    "from myrtlespeech.run.run import ReportRNNTDecoder"
   ]
  },
  {
   "cell_type": "code",
   "execution_count": null,
   "metadata": {},
   "outputs": [],
   "source": [
    "from myrtlespeech.run.train import run_stage\n",
    "from myrtlespeech.run.callbacks.callback import CallbackHandler"
   ]
  },
  {
   "cell_type": "code",
   "execution_count": null,
   "metadata": {},
   "outputs": [],
   "source": [
    "torch.backends.cudnn.benchmark = False # since variable size inputs\n",
    "import os\n",
    "\n",
    "os.environ[\"CUDA_VISIBLE_DEVICES\"] = \"0\""
   ]
  },
  {
   "cell_type": "code",
   "execution_count": null,
   "metadata": {},
   "outputs": [],
   "source": [
    "weights_fp = \"/home/julian/models/rnnt-53.pt\"\n",
    "\n",
    "model = torch.load(weights_fp)\n",
    "for key, val in model[\"network\"].items():\n",
    "    print(key, val.shape)\n",
    "\n"
   ]
  },
  {
   "cell_type": "code",
   "execution_count": null,
   "metadata": {},
   "outputs": [],
   "source": [
    "torch.load(weights_fp)['network'][\"joint_net.3.bias\"]"
   ]
  },
  {
   "cell_type": "code",
   "execution_count": null,
   "metadata": {},
   "outputs": [],
   "source": []
  },
  {
   "cell_type": "markdown",
   "metadata": {},
   "source": [
    "Build the RNNT model defined in the config file:"
   ]
  },
  {
   "cell_type": "code",
   "execution_count": null,
   "metadata": {},
   "outputs": [],
   "source": [
    "# parse example config file\n",
    "with open(\"../src/myrtlespeech/configs/rnn_t_en_ds_int.config\") as f:\n",
    "    task_config = text_format.Merge(f.read(), task_config_pb2.TaskConfig())\n"
   ]
  },
  {
   "cell_type": "code",
   "execution_count": null,
   "metadata": {},
   "outputs": [],
   "source": [
    "# create all components for config\n",
    "# FYI: if using train-clean-100 & dev-clean this cell takes O(60s) \n",
    "seq_to_seq, epochs, train_loader, eval_loader = build(task_config)\n"
   ]
  },
  {
   "cell_type": "code",
   "execution_count": null,
   "metadata": {},
   "outputs": [],
   "source": [
    "seq_to_seq"
   ]
  },
  {
   "cell_type": "code",
   "execution_count": null,
   "metadata": {},
   "outputs": [],
   "source": [
    "                    #ds_int: ms\n",
    "dict_map_partial = {\"encoder.0\": \"encode.fc1.fully_connected.0\",\n",
    "               \"encoder.3\": \"encode.fc1.fully_connected.3\",\n",
    "               \"encoder.6.layers.0\": \"encode.rnn1\",\n",
    "               \"encoder.6.layers.2.rnn.weight_ih_l0\": \"encode.rnn1.rnn.weight_ih_l1\",\n",
    "               \"encoder.6.layers.2.rnn.weight_hh_l0\": \"encode.rnn1.rnn.weight_hh_l1\",\n",
    "               \"encoder.6.layers.2.rnn.bias_ih_l0\": \"encode.rnn1.rnn.bias_ih_l1\",\n",
    "               \"encoder.6.layers.2.rnn.bias_hh_l0\": \"encode.rnn1.rnn.bias_hh_l1\",\n",
    "                \"encoder.8\": \"encode.fc2.fully_connected.0\",\n",
    "                \"encoder.11\": \"encode.fc2.fully_connected.3\",\n",
    "                \"prediction.dec_rnn.layers.0\": \"predict_net.dec_rnn\",\n",
    "                \"prediction.dec_rnn.layers.2.rnn.weight_ih_l0\": \"predict_net.dec_rnn.rnn.weight_ih_l1\",\n",
    "                \"prediction.dec_rnn.layers.2.rnn.weight_hh_l0\": \"predict_net.dec_rnn.rnn.weight_hh_l1\",\n",
    "                \"prediction.dec_rnn.layers.2.rnn.bias_ih_l0\": \"predict_net.dec_rnn.rnn.bias_ih_l1\",\n",
    "                \"prediction.dec_rnn.layers.2.rnn.bias_hh_l0\": \"predict_net.dec_rnn.rnn.bias_hh_l1\",\n",
    "                \"prediction.embed\": \"predict_net.embed\",\n",
    "            \"joint_net.0\": \"joint_net.fully_connected.fully_connected.0\",\n",
    "            \"joint_net.3\": \"joint_net.fully_connected.fully_connected.3\"}\n",
    "\n"
   ]
  },
  {
   "cell_type": "code",
   "execution_count": null,
   "metadata": {},
   "outputs": [],
   "source": [
    "def get_keys(model_):\n",
    "    keys = []\n",
    "    for k, _ in model_.named_parameters():\n",
    "        keys.append(k)\n",
    "    return keys\n",
    "\n",
    "dict_map = {}\n",
    "ms_keys = get_keys(seq_to_seq.model) \n",
    "dsi_keys = model[\"network\"].keys()\n",
    "for mskey in ms_keys:\n",
    "    found_key = False\n",
    "    for p_dsikey, p_mskey in dict_map_partial.items():\n",
    "        \n",
    "        if p_mskey in mskey:\n",
    "            dsikey = mskey.replace(p_mskey, p_dsikey)\n",
    "            dict_map[dsikey] = mskey\n",
    "            found_key = True\n",
    "    assert found_key == True, f\"Did not find key={mskey}\"\n",
    "dict_map"
   ]
  },
  {
   "cell_type": "code",
   "execution_count": null,
   "metadata": {},
   "outputs": [],
   "source": [
    "## pad input fc with zeros:\n",
    "add_zeros = False\n",
    "if add_zeros:\n",
    "    val = model[\"network\"][\"encoder.0.weight\"]\n",
    "    val_saved = val\n",
    "    print(val.shape, type(val), val.dtype, val.type())\n",
    "    zeros = torch.zeros(1152, 80).to(val.device).type(val.dtype)\n",
    "    val = torch.cat([zeros, val], dim=-1).contiguous()\n",
    "    assert val.shape ==  (1152, 400)\n",
    "    model[\"network\"][\"encoder.0.weight\"] = val"
   ]
  },
  {
   "cell_type": "code",
   "execution_count": null,
   "metadata": {},
   "outputs": [],
   "source": [
    "## update to new params\n",
    "\n",
    "state_dict = seq_to_seq.model.state_dict()\n",
    "\n",
    "for dsikey, param in model[\"network\"].items():\n",
    "    mskey = dict_map[dsikey]\n",
    "    state_dict[mskey] = param\n",
    "\n",
    "\n",
    "seq_to_seq.model.load_state_dict(state_dict)\n"
   ]
  },
  {
   "cell_type": "code",
   "execution_count": null,
   "metadata": {},
   "outputs": [],
   "source": [
    "seq_to_seq.model.state_dict()[\"joint_net.fully_connected.fully_connected.3.bias\"]"
   ]
  },
  {
   "cell_type": "code",
   "execution_count": null,
   "metadata": {},
   "outputs": [],
   "source": [
    "## assert it has worked\n",
    "for key, param in seq_to_seq.model.named_parameters():\n",
    "    found = False\n",
    "    for dsparam in model[\"network\"].values():\n",
    "        if param.shape == dsparam.shape and torch.allclose(param.half(), dsparam):\n",
    "            found = True\n",
    "    assert found == True, f\"Did not find param = {key}\"\n",
    "    print(f\"found param {key}\")"
   ]
  },
  {
   "cell_type": "code",
   "execution_count": null,
   "metadata": {},
   "outputs": [],
   "source": [
    "# save weights\n",
    "model_dir = \"/home/julian/models/\"\n",
    "\n",
    "save_model = True\n",
    "if add_zeros:\n",
    "    fp_out = model_dir + \"dsint_imported_w_zeros.pt\"\n",
    "else:\n",
    "    fp_out = model_dir + \"dsint_imported_no_zeros.pt\"\n",
    "if save_model:\n",
    "    torch.save(seq_to_seq.model.state_dict(), fp_out)"
   ]
  },
  {
   "cell_type": "code",
   "execution_count": null,
   "metadata": {},
   "outputs": [],
   "source": [
    "#check number of params\n",
    "check = False\n",
    "\n",
    "if check:\n",
    "    old_model_dict = torch.load(weights_fp)['network']\n",
    "\n",
    "    new_model_dict = torch.load(fp_out)\n",
    "\n",
    "    for model in [old_model_dict, new_model_dict]:\n",
    "        print(sum([p.numel() for _, p in model.items()]))\n",
    "\n",
    "    old = sum([p.numel() for _, p in old_model_dict.items()])\n",
    "    new = sum([p.numel() for _, p in new_model_dict.items()])\n",
    "\n",
    "    if add_zeros:\n",
    "        assert new - old == 1152 * 80, \"Failed\"\n",
    "    else:\n",
    "        assert new == old\n",
    "    print(f\"passed, new={new}, old={old}\")\n",
    "\n",
    "del model[\"network\"]"
   ]
  },
  {
   "cell_type": "markdown",
   "metadata": {},
   "source": [
    "### Maybe change decoder:"
   ]
  },
  {
   "cell_type": "code",
   "execution_count": null,
   "metadata": {},
   "outputs": [],
   "source": [
    "use_beam = False\n",
    "no_max = False\n",
    "\n",
    "from myrtlespeech.post_process.rnn_t_beam_decoder import RNNTBeamDecoder\n",
    "from myrtlespeech.post_process.rnn_t_greedy_decoder import RNNTGreedyDecoder\n",
    "\n",
    "if use_beam:\n",
    "    decoder = RNNTBeamDecoder(blank_index=28,\n",
    "                                beam_width=4,\n",
    "                                 length_norm=False,\n",
    "                                 max_symbols_per_step = 4,\n",
    "                             model=seq_to_seq.model)\n",
    "else:\n",
    "    decoder = RNNTGreedyDecoder(blank_index=28,\n",
    "                                 max_symbols_per_step = 4,\n",
    "                               model=seq_to_seq.model) \n",
    "\n",
    "seq_to_seq.post_process = decoder\n",
    "\n",
    "if no_max:\n",
    "    seq_to_seq.post_process.max_symbols_per_step = 100\n",
    "else:\n",
    "    seq_to_seq.post_process.max_symbols_per_step = 4"
   ]
  },
  {
   "cell_type": "markdown",
   "metadata": {},
   "source": [
    "## Callbacks\n",
    "* Use callbacks to inject features into training loop. \n",
    "* It is necessary (for now) to use the `RNNTTraining()` callback but the others are optional\n"
   ]
  },
  {
   "cell_type": "code",
   "execution_count": null,
   "metadata": {},
   "outputs": [],
   "source": [
    "#custom callback to monitor training and print results\n",
    "class PrintCB(Callback):\n",
    "    def __init__(self):\n",
    "        super().__init__()\n",
    "    \n",
    "    def on_batch_end(self, **kwargs):\n",
    "        \n",
    "        if self.training:\n",
    "            #print(\"training batch ended\")\n",
    "            return\n",
    "        epoch = kwargs[\"epoch\"]\n",
    "#         if kwargs[\"epoch_batches\"] % 100 == 0 and kwargs[\"epoch_batches\"] != 0:\n",
    "#             print(f\"{kwargs['epoch_batches']} batches completed\")\n",
    "#             try:\n",
    "#                 wer_reports = kwargs[\"reports\"][seq_to_seq.post_process.__class__.__name__]\n",
    "#                 wer = wer_reports[\"wer\"]\n",
    "#                 if len(wer_reports[\"transcripts\"]) > 0:\n",
    "#                     transcripts = wer_reports[\"transcripts\"][0] #take first element\n",
    "#                     pred, exp = transcripts\n",
    "#                     pred = \"\".join(pred)\n",
    "#                     exp = \"\".join(exp)\n",
    "#                     loss = kwargs[\"reports\"][\"ReportMeanBatchLoss\"]\n",
    "#                     print(\"batch end, pred: {}, exp: {}, wer: {:.4f}\".format(pred, exp, wer, ))\n",
    "\n",
    "#             except KeyError:\n",
    "#                 print(\"no wer - using new decoder?\")\n",
    "        \n",
    "        \n",
    "            \n",
    "    def on_epoch_end(self, **kwargs):\n",
    "        if self.training:\n",
    "            return\n",
    "        epoch = kwargs[\"epoch\"]\n",
    "        \n",
    "        try:\n",
    "            \n",
    "            loss = kwargs[\"reports\"][\"ReportMeanBatchLoss\"]\n",
    "            \n",
    "            wer_reports = kwargs[\"reports\"][seq_to_seq.post_process.__class__.__name__]\n",
    "            wer = wer_reports[\"wer\"]\n",
    "            \n",
    "            out_str = \"{}, loss: {:.8f}\".format(epoch, loss)\n",
    "            \n",
    "            if len(wer_reports[\"transcripts\"]) > 0:\n",
    "                transcripts = wer_reports[\"transcripts\"][0] #take first element\n",
    "                pred, exp = transcripts\n",
    "                pred = \"\".join(pred)\n",
    "                exp = \"\".join(exp)\n",
    "                \n",
    "                out_str += \", wer: {:.4f}, pred: {}, exp: {},\".format(wer, pred, exp)\n",
    "            print(out_str)\n",
    "        except KeyError:\n",
    "            \n",
    "            print(\"no wer - using new decoder?\")        \n",
    "\n",
    "keys_to_log = [\"epoch\", \n",
    "        f\"reports/{seq_to_seq.post_process.__class__.__name__}/wer\",\n",
    "        \"reports/ReportMeanBatchLoss\"]\n"
   ]
  },
  {
   "cell_type": "code",
   "execution_count": null,
   "metadata": {},
   "outputs": [],
   "source": [
    "run_eval = True\n",
    "\n",
    "\n",
    "eval_cbs = None\n",
    "if run_eval:\n",
    "    eval_cbs = [RNNTTraining(),\n",
    "            ReportMeanBatchLoss(), \n",
    "            ReportRNNTDecoder(seq_to_seq.post_process, seq_to_seq.alphabet),\n",
    "            CSVLogger(log_dir + \"log_eval.csv\", keys=keys_to_log),\n",
    "            PrintCB(),] \n",
    "    cb_handler = CallbackHandler(eval_cbs, False)\n",
    "    cb_handler.on_train_begin(epochs=2)\n",
    "    \n",
    "    run_stage(seq_to_seq, cb_handler, eval_loader, is_training=False)"
   ]
  },
  {
   "cell_type": "code",
   "execution_count": null,
   "metadata": {},
   "outputs": [],
   "source": [
    "\n",
    "\n",
    "rnnt_decoder_cb  = ReportRNNTDecoder(seq_to_seq.post_process, seq_to_seq.alphabet, eval_every=1, \n",
    "                                         skip_first_epoch=True)\n",
    "\n",
    "\n",
    "keys_to_log = [\"epoch\", \n",
    "        f\"reports/{seq_to_seq.post_process.__class__.__name__}/wer\",\n",
    "        \"reports/ReportMeanBatchLoss\"]\n",
    "\n",
    "\n",
    "\n",
    "callbacks = [RNNTTraining(),\n",
    "            ReportMeanBatchLoss(), \n",
    "            TensorBoardLogger(log_dir, seq_to_seq.model, histograms=True),\n",
    "            MixedPrecision(seq_to_seq),\n",
    "            ClipGradNorm(seq_to_seq, 200),\n",
    "            rnnt_decoder_cb,\n",
    "             \n",
    "            #stop prematurely (useful for debug). Ensure following line is commented out to perform full training\n",
    "            #StopEpochAfter(epoch_batches=2),\n",
    "            \n",
    "            # logging\n",
    "            CSVLogger(log_dir + \"log.csv\", keys=keys_to_log),\n",
    "            \n",
    "            PrintCB(),\n",
    "            Saver(log_dir, seq_to_seq.model)] \n"
   ]
  },
  {
   "cell_type": "markdown",
   "metadata": {},
   "source": [
    "### Maybe Change lr"
   ]
  },
  {
   "cell_type": "code",
   "execution_count": null,
   "metadata": {},
   "outputs": [],
   "source": [
    "change_lr = True\n",
    "new_lr = 0.0005\n",
    "\n",
    "\n",
    "\n",
    "for param_group in seq_to_seq.optim.param_groups:\n",
    "    print(\"current lr: \", param_group['lr'])\n",
    "\n",
    "if change_lr:\n",
    "    for param_group in seq_to_seq.optim.param_groups:\n",
    "        param_group['lr'] = new_lr\n",
    "\n",
    "for param_group in seq_to_seq.optim.param_groups:\n",
    "    print(\"new lr: \", param_group['lr'])"
   ]
  },
  {
   "cell_type": "code",
   "execution_count": null,
   "metadata": {},
   "outputs": [],
   "source": [
    "fit(\n",
    "    seq_to_seq, \n",
    "    epochs=40,\n",
    "    train_loader=train_loader, \n",
    "    eval_loader=eval_loader,\n",
    "    callbacks=callbacks,\n",
    ")\n",
    "\n"
   ]
  },
  {
   "cell_type": "code",
   "execution_count": null,
   "metadata": {},
   "outputs": [],
   "source": [
    "import torch\n",
    "import gc\n",
    "for obj in gc.get_objects():\n",
    "    try:\n",
    "        if torch.is_tensor(obj) or (hasattr(obj, 'data') and torch.is_tensor(obj.data)):\n",
    "            print(type(obj), obj.size())\n",
    "    except: pass"
   ]
  },
  {
   "cell_type": "markdown",
   "metadata": {},
   "source": [
    "### Maybe eval"
   ]
  },
  {
   "cell_type": "code",
   "execution_count": null,
   "metadata": {},
   "outputs": [],
   "source": [
    "run_eval = True\n",
    "\n",
    "\n",
    "eval_cbs = None\n",
    "if run_eval:\n",
    "    eval_cbs = [RNNTTraining(),\n",
    "            ReportMeanBatchLoss(), \n",
    "            ReportRNNTDecoder(seq_to_seq.post_process, seq_to_seq.alphabet),\n",
    "            CSVLogger(log_dir + \"log_eval.csv\", keys=keys_to_log),\n",
    "            PrintCB(),] \n",
    "    cb_handler = CallbackHandler(eval_cbs, False)\n",
    "    cb_handler.on_train_begin(epochs=2)\n",
    "    \n",
    "    run_stage(seq_to_seq, cb_handler, eval_loader, is_training=False)"
   ]
  },
  {
   "cell_type": "code",
   "execution_count": null,
   "metadata": {},
   "outputs": [],
   "source": []
  }
 ],
 "metadata": {
  "kernelspec": {
   "display_name": "Python 3",
   "language": "python",
   "name": "python3"
  },
  "language_info": {
   "codemirror_mode": {
    "name": "ipython",
    "version": 3
   },
   "file_extension": ".py",
   "mimetype": "text/x-python",
   "name": "python",
   "nbconvert_exporter": "python",
   "pygments_lexer": "ipython3",
   "version": "3.6.8"
  }
 },
 "nbformat": 4,
 "nbformat_minor": 2
}
